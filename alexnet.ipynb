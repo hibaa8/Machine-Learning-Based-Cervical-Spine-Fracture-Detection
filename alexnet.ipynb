{
 "cells": [
  {
   "cell_type": "code",
   "execution_count": null,
   "id": "873c0462",
   "metadata": {
    "execution": {
     "iopub.execute_input": "2023-03-30T06:59:26.137905Z",
     "iopub.status.busy": "2023-03-30T06:59:26.137421Z",
     "iopub.status.idle": "2023-03-30T06:59:27.758814Z",
     "shell.execute_reply": "2023-03-30T06:59:27.757370Z",
     "shell.execute_reply.started": "2023-03-30T06:59:26.137860Z"
    },
    "papermill": {
     "duration": null,
     "end_time": null,
     "exception": null,
     "start_time": null,
     "status": "pending"
    },
    "tags": []
   },
   "outputs": [],
   "source": [
    "from tensorflow.keras.models import Sequential\n",
    "from tensorflow.keras.layers import Dense, Dropout, Flatten, Conv2D, MaxPooling2D, BatchNormalization\n",
    "\n",
    "input_shape = (227, 227, 3)\n",
    "\n",
    "model = Sequential()\n",
    "\n",
    "model.add(Conv2D(filters=96, kernel_size=(11, 11), strides=(4, 4), activation='relu', input_shape=input_shape))\n",
    "model.add(MaxPooling2D(pool_size=(3, 3), strides=(2, 2)))\n",
    "model.add(BatchNormalization())\n",
    "\n",
    "model.add(Conv2D(filters=256, kernel_size=(5, 5), strides=(1, 1), activation='relu', padding=\"same\"))\n",
    "model.add(MaxPooling2D(pool_size=(3, 3), strides=(2, 2)))\n",
    "model.add(BatchNormalization())\n",
    "\n",
    "model.add(Conv2D(filters=384, kernel_size=(3, 3), strides=(1, 1), activation='relu', padding=\"same\"))\n",
    "model.add(BatchNormalization())\n",
    "\n",
    "model.add(Conv2D(filters=384, kernel_size=(3, 3), strides=(1, 1), activation='relu', padding=\"same\"))\n",
    "model.add(BatchNormalization())\n",
    "\n",
    "model.add(Conv2D(filters=256, kernel_size=(3, 3), strides=(1, 1), activation='relu', padding=\"same\"))\n",
    "model.add(MaxPooling2D(pool_size=(3, 3), strides=(2, 2)))\n",
    "model.add(BatchNormalization())\n",
    "\n",
    "model.add(Flatten())\n",
    "model.add(Dense(units=4096, activation='relu'))\n",
    "model.add(Dropout(0.5))\n",
    "\n",
    "model.add(Dense(units=4096, activation='relu'))\n",
    "model.add(Dropout(0.5))\n",
    "\n",
    "model.add(Dense(units=2, activation='softmax'))\n",
    "\n",
    "model.compile(loss='categorical_crossentropy', optimizer='adam', metrics=['accuracy'])\n"
   ]
  },
  {
   "cell_type": "code",
   "execution_count": null,
   "id": "caf904e2",
   "metadata": {
    "execution": {
     "iopub.execute_input": "2023-03-30T07:01:02.111468Z",
     "iopub.status.busy": "2023-03-30T07:01:02.110971Z",
     "iopub.status.idle": "2023-03-30T07:01:05.965774Z",
     "shell.execute_reply": "2023-03-30T07:01:05.964358Z",
     "shell.execute_reply.started": "2023-03-30T07:01:02.111424Z"
    },
    "papermill": {
     "duration": null,
     "end_time": null,
     "exception": null,
     "start_time": null,
     "status": "pending"
    },
    "tags": []
   },
   "outputs": [],
   "source": [
    "import numpy as np\n",
    "\n",
    "x_train = np.expand_dims(x_train, axis=-1)\n",
    "\n",
    "x_train = np.repeat(x_train, 3, axis=-1)\n"
   ]
  },
  {
   "cell_type": "code",
   "execution_count": null,
   "id": "b1e03803",
   "metadata": {
    "execution": {
     "iopub.execute_input": "2023-03-30T07:01:05.968803Z",
     "iopub.status.busy": "2023-03-30T07:01:05.968365Z",
     "iopub.status.idle": "2023-03-30T07:01:06.947525Z",
     "shell.execute_reply": "2023-03-30T07:01:06.945894Z",
     "shell.execute_reply.started": "2023-03-30T07:01:05.968760Z"
    },
    "papermill": {
     "duration": null,
     "end_time": null,
     "exception": null,
     "start_time": null,
     "status": "pending"
    },
    "tags": []
   },
   "outputs": [],
   "source": [
    "\n",
    "x_test = np.expand_dims(x_test, axis=-1)\n",
    "\n",
    "x_test = np.repeat(x_test, 3, axis=-1)"
   ]
  },
  {
   "cell_type": "code",
   "execution_count": null,
   "id": "ad65f869",
   "metadata": {
    "execution": {
     "iopub.execute_input": "2023-03-30T07:01:10.870536Z",
     "iopub.status.busy": "2023-03-30T07:01:10.870035Z",
     "iopub.status.idle": "2023-03-30T07:01:10.880204Z",
     "shell.execute_reply": "2023-03-30T07:01:10.878364Z",
     "shell.execute_reply.started": "2023-03-30T07:01:10.870488Z"
    },
    "papermill": {
     "duration": null,
     "end_time": null,
     "exception": null,
     "start_time": null,
     "status": "pending"
    },
    "tags": []
   },
   "outputs": [],
   "source": [
    "x_train.shape"
   ]
  },
  {
   "cell_type": "code",
   "execution_count": null,
   "id": "7942dd36",
   "metadata": {
    "execution": {
     "iopub.execute_input": "2023-03-30T07:00:23.932695Z",
     "iopub.status.busy": "2023-03-30T07:00:23.932321Z",
     "iopub.status.idle": "2023-03-30T07:00:23.943670Z",
     "shell.execute_reply": "2023-03-30T07:00:23.942242Z",
     "shell.execute_reply.started": "2023-03-30T07:00:23.932658Z"
    },
    "papermill": {
     "duration": null,
     "end_time": null,
     "exception": null,
     "start_time": null,
     "status": "pending"
    },
    "tags": []
   },
   "outputs": [],
   "source": [
    "y_train"
   ]
  },
  {
   "cell_type": "code",
   "execution_count": null,
   "id": "c7eb2e7c",
   "metadata": {
    "execution": {
     "iopub.execute_input": "2023-03-29T09:59:51.839236Z",
     "iopub.status.busy": "2023-03-29T09:59:51.838834Z",
     "iopub.status.idle": "2023-03-29T10:02:24.234552Z",
     "shell.execute_reply": "2023-03-29T10:02:24.232919Z",
     "shell.execute_reply.started": "2023-03-29T09:59:51.839201Z"
    },
    "papermill": {
     "duration": null,
     "end_time": null,
     "exception": null,
     "start_time": null,
     "status": "pending"
    },
    "tags": []
   },
   "outputs": [],
   "source": [
    "import tensorflow as tf\n",
    "tf.config.run_functions_eagerly(True)\n",
    "model.fit(x_train, y_train, epochs=3, batch_size=32)\n"
   ]
  },
  {
   "cell_type": "code",
   "execution_count": null,
   "id": "9a48f5cc",
   "metadata": {
    "execution": {
     "iopub.execute_input": "2023-03-29T11:13:41.373727Z",
     "iopub.status.busy": "2023-03-29T11:13:41.372460Z",
     "iopub.status.idle": "2023-03-29T11:13:48.679988Z",
     "shell.execute_reply": "2023-03-29T11:13:48.678898Z",
     "shell.execute_reply.started": "2023-03-29T11:13:41.373654Z"
    },
    "papermill": {
     "duration": null,
     "end_time": null,
     "exception": null,
     "start_time": null,
     "status": "pending"
    },
    "tags": []
   },
   "outputs": [],
   "source": [
    "\n",
    "test_loss, test_acc = model.evaluate(x_test, y_test)\n",
    "\n",
    "print('Test accuracy:', test_acc)"
   ]
  },
  {
   "cell_type": "code",
   "execution_count": null,
   "id": "dd4d1101",
   "metadata": {
    "execution": {
     "iopub.execute_input": "2023-03-30T07:01:41.839438Z",
     "iopub.status.busy": "2023-03-30T07:01:41.838464Z",
     "iopub.status.idle": "2023-03-30T07:24:45.223073Z",
     "shell.execute_reply": "2023-03-30T07:24:45.221381Z",
     "shell.execute_reply.started": "2023-03-30T07:01:41.839379Z"
    },
    "papermill": {
     "duration": null,
     "end_time": null,
     "exception": null,
     "start_time": null,
     "status": "pending"
    },
    "tags": []
   },
   "outputs": [],
   "source": [
    "import matplotlib.pyplot as plt\n",
    "import time\n",
    "\n",
    "start_time = time.time()\n",
    "\n",
    "history = model.fit(x_train, y_train, epochs=3)\n",
    "\n",
    "end_time = time.time()\n",
    "\n",
    "print(\"Total training time:\", end_time - start_time, \"seconds\")\n"
   ]
  },
  {
   "cell_type": "code",
   "execution_count": null,
   "id": "ec539de7",
   "metadata": {
    "execution": {
     "iopub.execute_input": "2023-03-30T07:29:57.263787Z",
     "iopub.status.busy": "2023-03-30T07:29:57.263208Z",
     "iopub.status.idle": "2023-03-30T07:30:24.145235Z",
     "shell.execute_reply": "2023-03-30T07:30:24.143769Z",
     "shell.execute_reply.started": "2023-03-30T07:29:57.263734Z"
    },
    "papermill": {
     "duration": null,
     "end_time": null,
     "exception": null,
     "start_time": null,
     "status": "pending"
    },
    "tags": []
   },
   "outputs": [],
   "source": [
    "start_time = time.time()\n",
    "\n",
    "loss, test_accuracy = model.evaluate(x_test, y_test)\n",
    "\n",
    "end_time = time.time()\n",
    "\n",
    "print(\"Total testing time:\", end_time - start_time, \"seconds\")\n"
   ]
  },
  {
   "cell_type": "code",
   "execution_count": null,
   "id": "b978bc50",
   "metadata": {
    "execution": {
     "iopub.execute_input": "2023-03-30T09:57:07.603231Z",
     "iopub.status.busy": "2023-03-30T09:57:07.602740Z",
     "iopub.status.idle": "2023-03-30T09:57:07.712374Z",
     "shell.execute_reply": "2023-03-30T09:57:07.709615Z",
     "shell.execute_reply.started": "2023-03-30T09:57:07.603191Z"
    },
    "papermill": {
     "duration": null,
     "end_time": null,
     "exception": null,
     "start_time": null,
     "status": "pending"
    },
    "tags": []
   },
   "outputs": [],
   "source": [
    "\n",
    "\n",
    "plt.plot(history.history['accuracy'])\n",
    "plt.plot(history.history['loss'])\n",
    "plt.title('Accuracy vs. Loss')\n",
    "plt.ylabel('Percentage')\n",
    "plt.xlabel('Epoch')\n",
    "plt.legend(['Accuracy', 'Validation'], loc='upper left')\n",
    "plt.show()"
   ]
  }
 ],
 "metadata": {
  "kernelspec": {
   "display_name": "Python 3",
   "language": "python",
   "name": "python3"
  },
  "language_info": {
   "codemirror_mode": {
    "name": "ipython",
    "version": 3
   },
   "file_extension": ".py",
   "mimetype": "text/x-python",
   "name": "python",
   "nbconvert_exporter": "python",
   "pygments_lexer": "ipython3",
   "version": "3.7.12"
  },
  "papermill": {
   "default_parameters": {},
   "duration": 22.817066,
   "end_time": "2023-03-30T09:59:37.711973",
   "environment_variables": {},
   "exception": true,
   "input_path": "__notebook__.ipynb",
   "output_path": "__notebook__.ipynb",
   "parameters": {},
   "start_time": "2023-03-30T09:59:14.894907",
   "version": "2.4.0"
  }
 },
 "nbformat": 4,
 "nbformat_minor": 5
}
