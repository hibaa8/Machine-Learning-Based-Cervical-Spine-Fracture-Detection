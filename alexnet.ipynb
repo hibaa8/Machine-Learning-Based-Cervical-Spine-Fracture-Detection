{
 "cells": [
  {
   "cell_type": "code",
   "execution_count": 1,
   "id": "7786ae91",
   "metadata": {
    "_cell_guid": "b1076dfc-b9ad-4769-8c92-a6c4dae69d19",
    "_uuid": "8f2839f25d086af736a60e9eeb907d3b93b6e0e5",
    "execution": {
     "iopub.execute_input": "2023-03-30T09:59:26.433192Z",
     "iopub.status.busy": "2023-03-30T09:59:26.432780Z",
     "iopub.status.idle": "2023-03-30T09:59:36.957499Z",
     "shell.execute_reply": "2023-03-30T09:59:36.956184Z"
    },
    "papermill": {
     "duration": 10.53804,
     "end_time": "2023-03-30T09:59:36.960574",
     "exception": false,
     "start_time": "2023-03-30T09:59:26.422534",
     "status": "completed"
    },
    "tags": []
   },
   "outputs": [],
   "source": [
    "import os\n",
    "import numpy as np\n",
    "import pandas as pd\n",
    "import matplotlib.pyplot as plt\n",
    "import pydicom\n",
    "from PIL import Image\n",
    "from sklearn.model_selection import train_test_split\n",
    "from keras.preprocessing.image import ImageDataGenerator\n",
    "from keras.applications.densenet import preprocess_input\n",
    "from keras.utils import to_categorical"
   ]
  },
  {
   "cell_type": "code",
   "execution_count": 3,
   "id": "71357780",
   "metadata": {
    "execution": {
     "iopub.execute_input": "2023-03-30T09:59:37.001220Z",
     "iopub.status.busy": "2023-03-30T09:59:37.000723Z",
     "iopub.status.idle": "2023-03-30T09:59:37.006551Z",
     "shell.execute_reply": "2023-03-30T09:59:37.005170Z"
    },
    "papermill": {
     "duration": 0.016878,
     "end_time": "2023-03-30T09:59:37.009067",
     "exception": false,
     "start_time": "2023-03-30T09:59:36.992189",
     "status": "completed"
    },
    "tags": []
   },
   "outputs": [],
   "source": [
    "data_dir = '/kaggle/input/rsna-2022-cervical-spine-fracture-detection/train_images'\n",
    "csv_path = '/kaggle/input/rsna-2022-cervical-spine-fracture-detection/train.csv'\n",
    "images_dir = '/kaggle/working/images_dir'\n",
    "labels = []"
   ]
  },
  {
   "cell_type": "code",
   "execution_count": null,
   "id": "d68d9584",
   "metadata": {
    "execution": {
     "iopub.execute_input": "2023-03-30T09:59:37.025203Z",
     "iopub.status.busy": "2023-03-30T09:59:37.024515Z",
     "iopub.status.idle": "2023-03-30T09:59:37.379764Z",
     "shell.execute_reply": "2023-03-30T09:59:37.378305Z"
    },
    "papermill": {
     "duration": 0.365794,
     "end_time": "2023-03-30T09:59:37.381862",
     "exception": true,
     "start_time": "2023-03-30T09:59:37.016068",
     "status": "failed"
    },
    "tags": []
   },
   "outputs": [],
   "source": [
    "import shutil\n",
    "\n",
    "shutil.rmtree('/kaggle/working/images')\n",
    "shutil.rmtree('/kaggle/working/labels')\n"
   ]
  },
  {
   "cell_type": "code",
   "execution_count": null,
   "id": "e6839051",
   "metadata": {
    "execution": {
     "iopub.execute_input": "2023-03-29T03:56:17.834862Z",
     "iopub.status.busy": "2023-03-29T03:56:17.834459Z",
     "iopub.status.idle": "2023-03-29T03:56:17.861631Z",
     "shell.execute_reply": "2023-03-29T03:56:17.860577Z",
     "shell.execute_reply.started": "2023-03-29T03:56:17.834825Z"
    },
    "papermill": {
     "duration": null,
     "end_time": null,
     "exception": null,
     "start_time": null,
     "status": "pending"
    },
    "tags": []
   },
   "outputs": [],
   "source": [
    "shutil.rmtree('/kaggle/working/training')"
   ]
  },
  {
   "cell_type": "code",
   "execution_count": null,
   "id": "3c13aa46",
   "metadata": {
    "execution": {
     "iopub.execute_input": "2023-03-30T06:08:21.444852Z",
     "iopub.status.busy": "2023-03-30T06:08:21.444440Z",
     "iopub.status.idle": "2023-03-30T06:08:21.458011Z",
     "shell.execute_reply": "2023-03-30T06:08:21.456637Z",
     "shell.execute_reply.started": "2023-03-30T06:08:21.444802Z"
    },
    "papermill": {
     "duration": null,
     "end_time": null,
     "exception": null,
     "start_time": null,
     "status": "pending"
    },
    "tags": []
   },
   "outputs": [],
   "source": [
    "os.makedirs('images', exist_ok=True)\n",
    "os.makedirs('labels', exist_ok=True)"
   ]
  },
  {
   "cell_type": "code",
   "execution_count": null,
   "id": "c703f565",
   "metadata": {
    "execution": {
     "iopub.execute_input": "2023-03-30T06:08:21.461851Z",
     "iopub.status.busy": "2023-03-30T06:08:21.460878Z",
     "iopub.status.idle": "2023-03-30T06:08:21.490259Z",
     "shell.execute_reply": "2023-03-30T06:08:21.488930Z",
     "shell.execute_reply.started": "2023-03-30T06:08:21.461783Z"
    },
    "papermill": {
     "duration": null,
     "end_time": null,
     "exception": null,
     "start_time": null,
     "status": "pending"
    },
    "tags": []
   },
   "outputs": [],
   "source": [
    "\n",
    "train_df = pd.read_csv(csv_path)\n",
    "labels=[]\n",
    "images = np.empty((0, 224, 224))"
   ]
  },
  {
   "cell_type": "code",
   "execution_count": null,
   "id": "57b6beaa",
   "metadata": {
    "execution": {
     "iopub.execute_input": "2023-03-30T06:08:21.493075Z",
     "iopub.status.busy": "2023-03-30T06:08:21.492340Z",
     "iopub.status.idle": "2023-03-30T06:58:52.756248Z",
     "shell.execute_reply": "2023-03-30T06:58:52.754062Z",
     "shell.execute_reply.started": "2023-03-30T06:08:21.493030Z"
    },
    "papermill": {
     "duration": null,
     "end_time": null,
     "exception": null,
     "start_time": null,
     "status": "pending"
    },
    "tags": []
   },
   "outputs": [],
   "source": [
    "\n",
    "images = np.empty((0, 227, 227))\n",
    "os.makedirs('training', exist_ok=True)\n",
    "\n",
    "counter=0\n",
    "\n",
    "for subdir in os.listdir(data_dir):\n",
    "    if(counter < 20):\n",
    "        counter+=1\n",
    "        print(counter)\n",
    "       \n",
    "        if os.path.isdir(os.path.join(data_dir, subdir)):\n",
    "            print('running')\n",
    "            \n",
    "            study_uid = subdir\n",
    "            label = train_df[train_df['StudyInstanceUID'] == study_uid]['patient_overall'].values[0]\n",
    "            \n",
    "            for file in os.listdir(os.path.join(data_dir, subdir)):\n",
    "                \n",
    "                if file.endswith('.dcm'):\n",
    "                    \n",
    "                    try:\n",
    "                        dcm_file = pydicom.read_file(os.path.join(data_dir, subdir, file))\n",
    "                        dcm_file.PhotometricInterpretation = 'YBR_FULL'\n",
    "                       \n",
    "                        img = dcm_file.pixel_array.astype(float)\n",
    "                        img = (img / np.max(img)) * 255.0\n",
    "                   \n",
    "                        img = Image.fromarray(img.astype('uint8'))\n",
    "                        img = img.resize((227,227))\n",
    "                        img.save(os.path.join('training', str(file) + '.jpg'))\n",
    "                        img_arr = np.array(img)\n",
    "                        images = np.concatenate((images, [img_arr]))\n",
    "                        labels.append(label)\n",
    "                    \n",
    "                    except:\n",
    "                        print(\"Skipping file:\", file)\n",
    "                        continue\n",
    "                    "
   ]
  },
  {
   "cell_type": "code",
   "execution_count": null,
   "id": "c507ff5d",
   "metadata": {
    "execution": {
     "iopub.execute_input": "2023-03-29T04:32:25.100041Z",
     "iopub.status.busy": "2023-03-29T04:32:25.099591Z",
     "iopub.status.idle": "2023-03-29T04:32:50.949483Z",
     "shell.execute_reply": "2023-03-29T04:32:50.947730Z",
     "shell.execute_reply.started": "2023-03-29T04:32:25.100004Z"
    },
    "papermill": {
     "duration": null,
     "end_time": null,
     "exception": null,
     "start_time": null,
     "status": "pending"
    },
    "tags": []
   },
   "outputs": [],
   "source": [
    "\n",
    "!pip install gdcm\n",
    "\n",
    "!pip install pylibjpeg"
   ]
  },
  {
   "cell_type": "code",
   "execution_count": null,
   "id": "8105e9a3",
   "metadata": {
    "execution": {
     "iopub.execute_input": "2023-03-29T04:40:04.956768Z",
     "iopub.status.busy": "2023-03-29T04:40:04.955677Z",
     "iopub.status.idle": "2023-03-29T04:40:08.102139Z",
     "shell.execute_reply": "2023-03-29T04:40:08.100799Z",
     "shell.execute_reply.started": "2023-03-29T04:40:04.956711Z"
    },
    "papermill": {
     "duration": null,
     "end_time": null,
     "exception": null,
     "start_time": null,
     "status": "pending"
    },
    "tags": []
   },
   "outputs": [],
   "source": [
    "!sudo apt-get install libgdcm2-dev"
   ]
  },
  {
   "cell_type": "code",
   "execution_count": null,
   "id": "bd36bf7a",
   "metadata": {
    "execution": {
     "iopub.execute_input": "2023-03-30T06:59:09.407069Z",
     "iopub.status.busy": "2023-03-30T06:59:09.406096Z",
     "iopub.status.idle": "2023-03-30T06:59:10.777917Z",
     "shell.execute_reply": "2023-03-30T06:59:10.776506Z",
     "shell.execute_reply.started": "2023-03-30T06:59:09.406988Z"
    },
    "papermill": {
     "duration": null,
     "end_time": null,
     "exception": null,
     "start_time": null,
     "status": "pending"
    },
    "tags": []
   },
   "outputs": [],
   "source": [
    "from tensorflow.keras.utils import to_categorical\n",
    "images=np.array(images)\n",
    "labels=to_categorical(np.array(labels))"
   ]
  },
  {
   "cell_type": "code",
   "execution_count": null,
   "id": "47fae36a",
   "metadata": {
    "execution": {
     "iopub.execute_input": "2023-03-30T06:59:18.021992Z",
     "iopub.status.busy": "2023-03-30T06:59:18.020900Z",
     "iopub.status.idle": "2023-03-30T06:59:18.032574Z",
     "shell.execute_reply": "2023-03-30T06:59:18.031237Z",
     "shell.execute_reply.started": "2023-03-30T06:59:18.021936Z"
    },
    "papermill": {
     "duration": null,
     "end_time": null,
     "exception": null,
     "start_time": null,
     "status": "pending"
    },
    "tags": []
   },
   "outputs": [],
   "source": [
    "images.shape"
   ]
  },
  {
   "cell_type": "code",
   "execution_count": null,
   "id": "abaf4d56",
   "metadata": {
    "execution": {
     "iopub.execute_input": "2023-03-29T07:50:06.585958Z",
     "iopub.status.busy": "2023-03-29T07:50:06.585508Z",
     "iopub.status.idle": "2023-03-29T07:50:06.593977Z",
     "shell.execute_reply": "2023-03-29T07:50:06.592620Z",
     "shell.execute_reply.started": "2023-03-29T07:50:06.585918Z"
    },
    "papermill": {
     "duration": null,
     "end_time": null,
     "exception": null,
     "start_time": null,
     "status": "pending"
    },
    "tags": []
   },
   "outputs": [],
   "source": [
    "labels"
   ]
  },
  {
   "cell_type": "code",
   "execution_count": null,
   "id": "e365a6da",
   "metadata": {
    "execution": {
     "iopub.execute_input": "2023-03-30T07:00:53.332316Z",
     "iopub.status.busy": "2023-03-30T07:00:53.331613Z",
     "iopub.status.idle": "2023-03-30T07:00:54.778254Z",
     "shell.execute_reply": "2023-03-30T07:00:54.776933Z",
     "shell.execute_reply.started": "2023-03-30T07:00:53.332259Z"
    },
    "papermill": {
     "duration": null,
     "end_time": null,
     "exception": null,
     "start_time": null,
     "status": "pending"
    },
    "tags": []
   },
   "outputs": [],
   "source": [
    "from sklearn.model_selection import train_test_split\n",
    "x_train, x_test, y_train, y_test = train_test_split(images, labels, test_size = 0.2, random_state = 42)"
   ]
  },
  {
   "cell_type": "code",
   "execution_count": null,
   "id": "0fdd3c8a",
   "metadata": {
    "execution": {
     "iopub.execute_input": "2023-03-29T07:50:56.555858Z",
     "iopub.status.busy": "2023-03-29T07:50:56.555450Z",
     "iopub.status.idle": "2023-03-29T07:50:56.562980Z",
     "shell.execute_reply": "2023-03-29T07:50:56.560589Z",
     "shell.execute_reply.started": "2023-03-29T07:50:56.555821Z"
    },
    "papermill": {
     "duration": null,
     "end_time": null,
     "exception": null,
     "start_time": null,
     "status": "pending"
    },
    "tags": []
   },
   "outputs": [],
   "source": [
    "print(x_train.shape)\n",
    "print(y_train.shape)"
   ]
  },
  {
   "cell_type": "code",
   "execution_count": null,
   "id": "d4fb77ac",
   "metadata": {
    "execution": {
     "iopub.execute_input": "2023-03-30T06:59:21.592006Z",
     "iopub.status.busy": "2023-03-30T06:59:21.591527Z",
     "iopub.status.idle": "2023-03-30T06:59:21.600071Z",
     "shell.execute_reply": "2023-03-30T06:59:21.598665Z",
     "shell.execute_reply.started": "2023-03-30T06:59:21.591964Z"
    },
    "papermill": {
     "duration": null,
     "end_time": null,
     "exception": null,
     "start_time": null,
     "status": "pending"
    },
    "tags": []
   },
   "outputs": [],
   "source": [
    "print(f'x_train: {len(x_train)}')\n",
    "print(f'y_train: {len(y_train)}')\n",
    "print(f'x_test: {len(x_test)}')\n",
    "print(f'y_test: {len(y_test)}')"
   ]
  },
  {
   "cell_type": "code",
   "execution_count": null,
   "id": "873c0462",
   "metadata": {
    "execution": {
     "iopub.execute_input": "2023-03-30T06:59:26.137905Z",
     "iopub.status.busy": "2023-03-30T06:59:26.137421Z",
     "iopub.status.idle": "2023-03-30T06:59:27.758814Z",
     "shell.execute_reply": "2023-03-30T06:59:27.757370Z",
     "shell.execute_reply.started": "2023-03-30T06:59:26.137860Z"
    },
    "papermill": {
     "duration": null,
     "end_time": null,
     "exception": null,
     "start_time": null,
     "status": "pending"
    },
    "tags": []
   },
   "outputs": [],
   "source": [
    "from tensorflow.keras.models import Sequential\n",
    "from tensorflow.keras.layers import Dense, Dropout, Flatten, Conv2D, MaxPooling2D, BatchNormalization\n",
    "\n",
    "input_shape = (227, 227, 3)\n",
    "\n",
    "model = Sequential()\n",
    "\n",
    "model.add(Conv2D(filters=96, kernel_size=(11, 11), strides=(4, 4), activation='relu', input_shape=input_shape))\n",
    "model.add(MaxPooling2D(pool_size=(3, 3), strides=(2, 2)))\n",
    "model.add(BatchNormalization())\n",
    "\n",
    "model.add(Conv2D(filters=256, kernel_size=(5, 5), strides=(1, 1), activation='relu', padding=\"same\"))\n",
    "model.add(MaxPooling2D(pool_size=(3, 3), strides=(2, 2)))\n",
    "model.add(BatchNormalization())\n",
    "\n",
    "model.add(Conv2D(filters=384, kernel_size=(3, 3), strides=(1, 1), activation='relu', padding=\"same\"))\n",
    "model.add(BatchNormalization())\n",
    "\n",
    "model.add(Conv2D(filters=384, kernel_size=(3, 3), strides=(1, 1), activation='relu', padding=\"same\"))\n",
    "model.add(BatchNormalization())\n",
    "\n",
    "model.add(Conv2D(filters=256, kernel_size=(3, 3), strides=(1, 1), activation='relu', padding=\"same\"))\n",
    "model.add(MaxPooling2D(pool_size=(3, 3), strides=(2, 2)))\n",
    "model.add(BatchNormalization())\n",
    "\n",
    "model.add(Flatten())\n",
    "model.add(Dense(units=4096, activation='relu'))\n",
    "model.add(Dropout(0.5))\n",
    "\n",
    "model.add(Dense(units=4096, activation='relu'))\n",
    "model.add(Dropout(0.5))\n",
    "\n",
    "model.add(Dense(units=2, activation='softmax'))\n",
    "\n",
    "model.compile(loss='categorical_crossentropy', optimizer='adam', metrics=['accuracy'])\n"
   ]
  },
  {
   "cell_type": "code",
   "execution_count": null,
   "id": "caf904e2",
   "metadata": {
    "execution": {
     "iopub.execute_input": "2023-03-30T07:01:02.111468Z",
     "iopub.status.busy": "2023-03-30T07:01:02.110971Z",
     "iopub.status.idle": "2023-03-30T07:01:05.965774Z",
     "shell.execute_reply": "2023-03-30T07:01:05.964358Z",
     "shell.execute_reply.started": "2023-03-30T07:01:02.111424Z"
    },
    "papermill": {
     "duration": null,
     "end_time": null,
     "exception": null,
     "start_time": null,
     "status": "pending"
    },
    "tags": []
   },
   "outputs": [],
   "source": [
    "import numpy as np\n",
    "\n",
    "x_train = np.expand_dims(x_train, axis=-1)\n",
    "\n",
    "x_train = np.repeat(x_train, 3, axis=-1)\n"
   ]
  },
  {
   "cell_type": "code",
   "execution_count": null,
   "id": "b1e03803",
   "metadata": {
    "execution": {
     "iopub.execute_input": "2023-03-30T07:01:05.968803Z",
     "iopub.status.busy": "2023-03-30T07:01:05.968365Z",
     "iopub.status.idle": "2023-03-30T07:01:06.947525Z",
     "shell.execute_reply": "2023-03-30T07:01:06.945894Z",
     "shell.execute_reply.started": "2023-03-30T07:01:05.968760Z"
    },
    "papermill": {
     "duration": null,
     "end_time": null,
     "exception": null,
     "start_time": null,
     "status": "pending"
    },
    "tags": []
   },
   "outputs": [],
   "source": [
    "\n",
    "x_test = np.expand_dims(x_test, axis=-1)\n",
    "\n",
    "x_test = np.repeat(x_test, 3, axis=-1)"
   ]
  },
  {
   "cell_type": "code",
   "execution_count": null,
   "id": "ad65f869",
   "metadata": {
    "execution": {
     "iopub.execute_input": "2023-03-30T07:01:10.870536Z",
     "iopub.status.busy": "2023-03-30T07:01:10.870035Z",
     "iopub.status.idle": "2023-03-30T07:01:10.880204Z",
     "shell.execute_reply": "2023-03-30T07:01:10.878364Z",
     "shell.execute_reply.started": "2023-03-30T07:01:10.870488Z"
    },
    "papermill": {
     "duration": null,
     "end_time": null,
     "exception": null,
     "start_time": null,
     "status": "pending"
    },
    "tags": []
   },
   "outputs": [],
   "source": [
    "x_train.shape"
   ]
  },
  {
   "cell_type": "code",
   "execution_count": null,
   "id": "7942dd36",
   "metadata": {
    "execution": {
     "iopub.execute_input": "2023-03-30T07:00:23.932695Z",
     "iopub.status.busy": "2023-03-30T07:00:23.932321Z",
     "iopub.status.idle": "2023-03-30T07:00:23.943670Z",
     "shell.execute_reply": "2023-03-30T07:00:23.942242Z",
     "shell.execute_reply.started": "2023-03-30T07:00:23.932658Z"
    },
    "papermill": {
     "duration": null,
     "end_time": null,
     "exception": null,
     "start_time": null,
     "status": "pending"
    },
    "tags": []
   },
   "outputs": [],
   "source": [
    "y_train"
   ]
  },
  {
   "cell_type": "code",
   "execution_count": null,
   "id": "c7eb2e7c",
   "metadata": {
    "execution": {
     "iopub.execute_input": "2023-03-29T09:59:51.839236Z",
     "iopub.status.busy": "2023-03-29T09:59:51.838834Z",
     "iopub.status.idle": "2023-03-29T10:02:24.234552Z",
     "shell.execute_reply": "2023-03-29T10:02:24.232919Z",
     "shell.execute_reply.started": "2023-03-29T09:59:51.839201Z"
    },
    "papermill": {
     "duration": null,
     "end_time": null,
     "exception": null,
     "start_time": null,
     "status": "pending"
    },
    "tags": []
   },
   "outputs": [],
   "source": [
    "import tensorflow as tf\n",
    "tf.config.run_functions_eagerly(True)\n",
    "model.fit(x_train, y_train, epochs=3, batch_size=32)\n"
   ]
  },
  {
   "cell_type": "code",
   "execution_count": null,
   "id": "9a48f5cc",
   "metadata": {
    "execution": {
     "iopub.execute_input": "2023-03-29T11:13:41.373727Z",
     "iopub.status.busy": "2023-03-29T11:13:41.372460Z",
     "iopub.status.idle": "2023-03-29T11:13:48.679988Z",
     "shell.execute_reply": "2023-03-29T11:13:48.678898Z",
     "shell.execute_reply.started": "2023-03-29T11:13:41.373654Z"
    },
    "papermill": {
     "duration": null,
     "end_time": null,
     "exception": null,
     "start_time": null,
     "status": "pending"
    },
    "tags": []
   },
   "outputs": [],
   "source": [
    "\n",
    "test_loss, test_acc = model.evaluate(x_test, y_test)\n",
    "\n",
    "print('Test accuracy:', test_acc)"
   ]
  },
  {
   "cell_type": "code",
   "execution_count": null,
   "id": "dd4d1101",
   "metadata": {
    "execution": {
     "iopub.execute_input": "2023-03-30T07:01:41.839438Z",
     "iopub.status.busy": "2023-03-30T07:01:41.838464Z",
     "iopub.status.idle": "2023-03-30T07:24:45.223073Z",
     "shell.execute_reply": "2023-03-30T07:24:45.221381Z",
     "shell.execute_reply.started": "2023-03-30T07:01:41.839379Z"
    },
    "papermill": {
     "duration": null,
     "end_time": null,
     "exception": null,
     "start_time": null,
     "status": "pending"
    },
    "tags": []
   },
   "outputs": [],
   "source": [
    "import matplotlib.pyplot as plt\n",
    "import time\n",
    "\n",
    "start_time = time.time()\n",
    "\n",
    "history = model.fit(x_train, y_train, epochs=3)\n",
    "\n",
    "end_time = time.time()\n",
    "\n",
    "print(\"Total training time:\", end_time - start_time, \"seconds\")\n"
   ]
  },
  {
   "cell_type": "code",
   "execution_count": null,
   "id": "ec539de7",
   "metadata": {
    "execution": {
     "iopub.execute_input": "2023-03-30T07:29:57.263787Z",
     "iopub.status.busy": "2023-03-30T07:29:57.263208Z",
     "iopub.status.idle": "2023-03-30T07:30:24.145235Z",
     "shell.execute_reply": "2023-03-30T07:30:24.143769Z",
     "shell.execute_reply.started": "2023-03-30T07:29:57.263734Z"
    },
    "papermill": {
     "duration": null,
     "end_time": null,
     "exception": null,
     "start_time": null,
     "status": "pending"
    },
    "tags": []
   },
   "outputs": [],
   "source": [
    "start_time = time.time()\n",
    "\n",
    "loss, test_accuracy = model.evaluate(x_test, y_test)\n",
    "\n",
    "end_time = time.time()\n",
    "\n",
    "print(\"Total testing time:\", end_time - start_time, \"seconds\")\n"
   ]
  },
  {
   "cell_type": "code",
   "execution_count": null,
   "id": "b978bc50",
   "metadata": {
    "execution": {
     "iopub.execute_input": "2023-03-30T09:57:07.603231Z",
     "iopub.status.busy": "2023-03-30T09:57:07.602740Z",
     "iopub.status.idle": "2023-03-30T09:57:07.712374Z",
     "shell.execute_reply": "2023-03-30T09:57:07.709615Z",
     "shell.execute_reply.started": "2023-03-30T09:57:07.603191Z"
    },
    "papermill": {
     "duration": null,
     "end_time": null,
     "exception": null,
     "start_time": null,
     "status": "pending"
    },
    "tags": []
   },
   "outputs": [],
   "source": [
    "\n",
    "\n",
    "plt.plot(history.history['accuracy'])\n",
    "plt.plot(history.history['loss'])\n",
    "plt.title('Accuracy vs. Loss')\n",
    "plt.ylabel('Percentage')\n",
    "plt.xlabel('Epoch')\n",
    "plt.legend(['Accuracy', 'Validation'], loc='upper left')\n",
    "plt.show()"
   ]
  }
 ],
 "metadata": {
  "kernelspec": {
   "display_name": "Python 3",
   "language": "python",
   "name": "python3"
  },
  "language_info": {
   "codemirror_mode": {
    "name": "ipython",
    "version": 3
   },
   "file_extension": ".py",
   "mimetype": "text/x-python",
   "name": "python",
   "nbconvert_exporter": "python",
   "pygments_lexer": "ipython3",
   "version": "3.7.12"
  },
  "papermill": {
   "default_parameters": {},
   "duration": 22.817066,
   "end_time": "2023-03-30T09:59:37.711973",
   "environment_variables": {},
   "exception": true,
   "input_path": "__notebook__.ipynb",
   "output_path": "__notebook__.ipynb",
   "parameters": {},
   "start_time": "2023-03-30T09:59:14.894907",
   "version": "2.4.0"
  }
 },
 "nbformat": 4,
 "nbformat_minor": 5
}
