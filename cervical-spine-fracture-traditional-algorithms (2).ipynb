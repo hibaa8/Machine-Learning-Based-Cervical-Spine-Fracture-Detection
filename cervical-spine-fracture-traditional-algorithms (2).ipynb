{
 "cells": [
  {
   "cell_type": "code",
   "execution_count": 1,
   "id": "949a0937",
   "metadata": {
    "_cell_guid": "b1076dfc-b9ad-4769-8c92-a6c4dae69d19",
    "_uuid": "8f2839f25d086af736a60e9eeb907d3b93b6e0e5",
    "execution": {
     "iopub.execute_input": "2023-03-30T10:01:36.023588Z",
     "iopub.status.busy": "2023-03-30T10:01:36.022986Z",
     "iopub.status.idle": "2023-03-30T10:01:47.634071Z",
     "shell.execute_reply": "2023-03-30T10:01:47.632516Z"
    },
    "papermill": {
     "duration": 11.625486,
     "end_time": "2023-03-30T10:01:47.637569",
     "exception": false,
     "start_time": "2023-03-30T10:01:36.012083",
     "status": "completed"
    },
    "tags": []
   },
   "outputs": [],
   "source": [
    "import os\n",
    "import numpy as np\n",
    "import pandas as pd\n",
    "import matplotlib.pyplot as plt\n",
    "import pydicom\n",
    "from PIL import Image\n",
    "from sklearn.model_selection import train_test_split\n",
    "from keras.preprocessing.image import ImageDataGenerator\n",
    "from keras.applications.densenet import preprocess_input\n",
    "from keras.utils import to_categorical"
   ]
  },
  {
   "cell_type": "code",
   "execution_count": 2,
   "id": "c7d6ed5d",
   "metadata": {
    "execution": {
     "iopub.execute_input": "2023-03-30T10:01:47.656122Z",
     "iopub.status.busy": "2023-03-30T10:01:47.654276Z",
     "iopub.status.idle": "2023-03-30T10:02:54.419046Z",
     "shell.execute_reply": "2023-03-30T10:02:54.417381Z"
    },
    "papermill": {
     "duration": 66.776406,
     "end_time": "2023-03-30T10:02:54.421704",
     "exception": false,
     "start_time": "2023-03-30T10:01:47.645298",
     "status": "completed"
    },
    "tags": []
   },
   "outputs": [
    {
     "name": "stdout",
     "output_type": "stream",
     "text": [
      "Requirement already satisfied: pydicom in /opt/conda/lib/python3.7/site-packages (2.3.1)\r\n",
      "\u001b[33mWARNING: Running pip as the 'root' user can result in broken permissions and conflicting behaviour with the system package manager. It is recommended to use a virtual environment instead: https://pip.pypa.io/warnings/venv\u001b[0m\u001b[33m\r\n",
      "\u001b[0mRequirement already satisfied: pillow in /opt/conda/lib/python3.7/site-packages (9.4.0)\r\n",
      "\u001b[33mWARNING: Running pip as the 'root' user can result in broken permissions and conflicting behaviour with the system package manager. It is recommended to use a virtual environment instead: https://pip.pypa.io/warnings/venv\u001b[0m\u001b[33m\r\n",
      "\u001b[0mRequirement already satisfied: numpy in /opt/conda/lib/python3.7/site-packages (1.21.6)\r\n",
      "\u001b[33mWARNING: Running pip as the 'root' user can result in broken permissions and conflicting behaviour with the system package manager. It is recommended to use a virtual environment instead: https://pip.pypa.io/warnings/venv\u001b[0m\u001b[33m\r\n",
      "\u001b[0mRequirement already satisfied: opencv-python-headless in /opt/conda/lib/python3.7/site-packages (4.5.4.60)\r\n",
      "Collecting opencv-python-headless\r\n",
      "  Downloading opencv_python_headless-4.7.0.72-cp37-abi3-manylinux_2_17_x86_64.manylinux2014_x86_64.whl (49.2 MB)\r\n",
      "\u001b[2K     \u001b[90m━━━━━━━━━━━━━━━━━━━━━━━━━━━━━━━━━━━━━━━━\u001b[0m \u001b[32m49.2/49.2 MB\u001b[0m \u001b[31m20.8 MB/s\u001b[0m eta \u001b[36m0:00:00\u001b[0m\r\n",
      "\u001b[?25hRequirement already satisfied: numpy>=1.17.0 in /opt/conda/lib/python3.7/site-packages (from opencv-python-headless) (1.21.6)\r\n",
      "Installing collected packages: opencv-python-headless\r\n",
      "  Attempting uninstall: opencv-python-headless\r\n",
      "    Found existing installation: opencv-python-headless 4.5.4.60\r\n",
      "    Uninstalling opencv-python-headless-4.5.4.60:\r\n",
      "      Successfully uninstalled opencv-python-headless-4.5.4.60\r\n",
      "\u001b[31mERROR: pip's dependency resolver does not currently take into account all the packages that are installed. This behaviour is the source of the following dependency conflicts.\r\n",
      "easyocr 1.6.2 requires opencv-python-headless<=4.5.4.60, but you have opencv-python-headless 4.7.0.72 which is incompatible.\u001b[0m\u001b[31m\r\n",
      "\u001b[0mSuccessfully installed opencv-python-headless-4.7.0.72\r\n",
      "\u001b[33mWARNING: Running pip as the 'root' user can result in broken permissions and conflicting behaviour with the system package manager. It is recommended to use a virtual environment instead: https://pip.pypa.io/warnings/venv\u001b[0m\u001b[33m\r\n",
      "\u001b[0mCollecting python-gdcm\r\n",
      "  Downloading python_gdcm-3.0.21-cp37-cp37m-manylinux_2_17_x86_64.manylinux2014_x86_64.whl (13.0 MB)\r\n",
      "\u001b[2K     \u001b[90m━━━━━━━━━━━━━━━━━━━━━━━━━━━━━━━━━━━━━━━━\u001b[0m \u001b[32m13.0/13.0 MB\u001b[0m \u001b[31m60.0 MB/s\u001b[0m eta \u001b[36m0:00:00\u001b[0m\r\n",
      "\u001b[?25hInstalling collected packages: python-gdcm\r\n",
      "Successfully installed python-gdcm-3.0.21\r\n",
      "\u001b[33mWARNING: Running pip as the 'root' user can result in broken permissions and conflicting behaviour with the system package manager. It is recommended to use a virtual environment instead: https://pip.pypa.io/warnings/venv\u001b[0m\u001b[33m\r\n",
      "\u001b[0m"
     ]
    }
   ],
   "source": [
    "!pip install -U pydicom\n",
    "!pip install -U pillow\n",
    "!pip install -U numpy\n",
    "!pip install -U opencv-python-headless\n",
    "!pip install -U python-gdcm\n"
   ]
  },
  {
   "cell_type": "code",
   "execution_count": 3,
   "id": "340e4104",
   "metadata": {
    "execution": {
     "iopub.execute_input": "2023-03-30T10:02:54.445123Z",
     "iopub.status.busy": "2023-03-30T10:02:54.444686Z",
     "iopub.status.idle": "2023-03-30T10:02:54.450744Z",
     "shell.execute_reply": "2023-03-30T10:02:54.449820Z"
    },
    "papermill": {
     "duration": 0.020622,
     "end_time": "2023-03-30T10:02:54.453159",
     "exception": false,
     "start_time": "2023-03-30T10:02:54.432537",
     "status": "completed"
    },
    "tags": []
   },
   "outputs": [],
   "source": [
    "data_dir = '/kaggle/input/rsna-2022-cervical-spine-fracture-detection/train_images'\n",
    "csv_path = '/kaggle/input/rsna-2022-cervical-spine-fracture-detection/train.csv'\n",
    "images_dir = '/kaggle/working/images_dir'\n",
    "labels = []"
   ]
  },
  {
   "cell_type": "code",
   "execution_count": 4,
   "id": "ef877813",
   "metadata": {
    "execution": {
     "iopub.execute_input": "2023-03-30T10:02:54.475202Z",
     "iopub.status.busy": "2023-03-30T10:02:54.474754Z",
     "iopub.status.idle": "2023-03-30T10:02:54.862569Z",
     "shell.execute_reply": "2023-03-30T10:02:54.860891Z"
    },
    "papermill": {
     "duration": 0.401708,
     "end_time": "2023-03-30T10:02:54.864806",
     "exception": true,
     "start_time": "2023-03-30T10:02:54.463098",
     "status": "failed"
    },
    "tags": []
   },
   "outputs": [
    {
     "ename": "FileNotFoundError",
     "evalue": "[Errno 2] No such file or directory: '/kaggle/working/images'",
     "output_type": "error",
     "traceback": [
      "\u001b[0;31m---------------------------------------------------------------------------\u001b[0m",
      "\u001b[0;31mFileNotFoundError\u001b[0m                         Traceback (most recent call last)",
      "\u001b[0;32m/tmp/ipykernel_19/3771525641.py\u001b[0m in \u001b[0;36m<module>\u001b[0;34m\u001b[0m\n\u001b[1;32m      1\u001b[0m \u001b[0;32mimport\u001b[0m \u001b[0mshutil\u001b[0m\u001b[0;34m\u001b[0m\u001b[0;34m\u001b[0m\u001b[0m\n\u001b[1;32m      2\u001b[0m \u001b[0;34m\u001b[0m\u001b[0m\n\u001b[0;32m----> 3\u001b[0;31m \u001b[0mshutil\u001b[0m\u001b[0;34m.\u001b[0m\u001b[0mrmtree\u001b[0m\u001b[0;34m(\u001b[0m\u001b[0;34m'/kaggle/working/images'\u001b[0m\u001b[0;34m)\u001b[0m\u001b[0;34m\u001b[0m\u001b[0;34m\u001b[0m\u001b[0m\n\u001b[0m\u001b[1;32m      4\u001b[0m \u001b[0mshutil\u001b[0m\u001b[0;34m.\u001b[0m\u001b[0mrmtree\u001b[0m\u001b[0;34m(\u001b[0m\u001b[0;34m'/kaggle/working/labels'\u001b[0m\u001b[0;34m)\u001b[0m\u001b[0;34m\u001b[0m\u001b[0;34m\u001b[0m\u001b[0m\n\u001b[1;32m      5\u001b[0m \u001b[0;31m#shutil.rmtree('/kaggle/working/training')\u001b[0m\u001b[0;34m\u001b[0m\u001b[0;34m\u001b[0m\u001b[0;34m\u001b[0m\u001b[0m\n",
      "\u001b[0;32m/opt/conda/lib/python3.7/shutil.py\u001b[0m in \u001b[0;36mrmtree\u001b[0;34m(path, ignore_errors, onerror)\u001b[0m\n\u001b[1;32m    483\u001b[0m             \u001b[0morig_st\u001b[0m \u001b[0;34m=\u001b[0m \u001b[0mos\u001b[0m\u001b[0;34m.\u001b[0m\u001b[0mlstat\u001b[0m\u001b[0;34m(\u001b[0m\u001b[0mpath\u001b[0m\u001b[0;34m)\u001b[0m\u001b[0;34m\u001b[0m\u001b[0;34m\u001b[0m\u001b[0m\n\u001b[1;32m    484\u001b[0m         \u001b[0;32mexcept\u001b[0m \u001b[0mException\u001b[0m\u001b[0;34m:\u001b[0m\u001b[0;34m\u001b[0m\u001b[0;34m\u001b[0m\u001b[0m\n\u001b[0;32m--> 485\u001b[0;31m             \u001b[0monerror\u001b[0m\u001b[0;34m(\u001b[0m\u001b[0mos\u001b[0m\u001b[0;34m.\u001b[0m\u001b[0mlstat\u001b[0m\u001b[0;34m,\u001b[0m \u001b[0mpath\u001b[0m\u001b[0;34m,\u001b[0m \u001b[0msys\u001b[0m\u001b[0;34m.\u001b[0m\u001b[0mexc_info\u001b[0m\u001b[0;34m(\u001b[0m\u001b[0;34m)\u001b[0m\u001b[0;34m)\u001b[0m\u001b[0;34m\u001b[0m\u001b[0;34m\u001b[0m\u001b[0m\n\u001b[0m\u001b[1;32m    486\u001b[0m             \u001b[0;32mreturn\u001b[0m\u001b[0;34m\u001b[0m\u001b[0;34m\u001b[0m\u001b[0m\n\u001b[1;32m    487\u001b[0m         \u001b[0;32mtry\u001b[0m\u001b[0;34m:\u001b[0m\u001b[0;34m\u001b[0m\u001b[0;34m\u001b[0m\u001b[0m\n",
      "\u001b[0;32m/opt/conda/lib/python3.7/shutil.py\u001b[0m in \u001b[0;36mrmtree\u001b[0;34m(path, ignore_errors, onerror)\u001b[0m\n\u001b[1;32m    481\u001b[0m         \u001b[0;31m# lstat()/open()/fstat() trick.\u001b[0m\u001b[0;34m\u001b[0m\u001b[0;34m\u001b[0m\u001b[0;34m\u001b[0m\u001b[0m\n\u001b[1;32m    482\u001b[0m         \u001b[0;32mtry\u001b[0m\u001b[0;34m:\u001b[0m\u001b[0;34m\u001b[0m\u001b[0;34m\u001b[0m\u001b[0m\n\u001b[0;32m--> 483\u001b[0;31m             \u001b[0morig_st\u001b[0m \u001b[0;34m=\u001b[0m \u001b[0mos\u001b[0m\u001b[0;34m.\u001b[0m\u001b[0mlstat\u001b[0m\u001b[0;34m(\u001b[0m\u001b[0mpath\u001b[0m\u001b[0;34m)\u001b[0m\u001b[0;34m\u001b[0m\u001b[0;34m\u001b[0m\u001b[0m\n\u001b[0m\u001b[1;32m    484\u001b[0m         \u001b[0;32mexcept\u001b[0m \u001b[0mException\u001b[0m\u001b[0;34m:\u001b[0m\u001b[0;34m\u001b[0m\u001b[0;34m\u001b[0m\u001b[0m\n\u001b[1;32m    485\u001b[0m             \u001b[0monerror\u001b[0m\u001b[0;34m(\u001b[0m\u001b[0mos\u001b[0m\u001b[0;34m.\u001b[0m\u001b[0mlstat\u001b[0m\u001b[0;34m,\u001b[0m \u001b[0mpath\u001b[0m\u001b[0;34m,\u001b[0m \u001b[0msys\u001b[0m\u001b[0;34m.\u001b[0m\u001b[0mexc_info\u001b[0m\u001b[0;34m(\u001b[0m\u001b[0;34m)\u001b[0m\u001b[0;34m)\u001b[0m\u001b[0;34m\u001b[0m\u001b[0;34m\u001b[0m\u001b[0m\n",
      "\u001b[0;31mFileNotFoundError\u001b[0m: [Errno 2] No such file or directory: '/kaggle/working/images'"
     ]
    }
   ],
   "source": [
    "import shutil\n",
    "\n",
    "shutil.rmtree('/kaggle/working/images')\n",
    "shutil.rmtree('/kaggle/working/labels')\n",
    "#shutil.rmtree('/kaggle/working/training')"
   ]
  },
  {
   "cell_type": "code",
   "execution_count": null,
   "id": "2acb7eb9",
   "metadata": {
    "execution": {
     "iopub.execute_input": "2023-03-28T13:01:19.087178Z",
     "iopub.status.busy": "2023-03-28T13:01:19.086700Z",
     "iopub.status.idle": "2023-03-28T13:01:19.117479Z",
     "shell.execute_reply": "2023-03-28T13:01:19.116137Z",
     "shell.execute_reply.started": "2023-03-28T13:01:19.087137Z"
    },
    "papermill": {
     "duration": null,
     "end_time": null,
     "exception": null,
     "start_time": null,
     "status": "pending"
    },
    "tags": []
   },
   "outputs": [],
   "source": [
    "shutil.rmtree('/kaggle/working/training')"
   ]
  },
  {
   "cell_type": "code",
   "execution_count": null,
   "id": "9af8b9e2",
   "metadata": {
    "execution": {
     "iopub.execute_input": "2023-03-30T06:08:00.060520Z",
     "iopub.status.busy": "2023-03-30T06:08:00.060106Z",
     "iopub.status.idle": "2023-03-30T06:08:00.066731Z",
     "shell.execute_reply": "2023-03-30T06:08:00.065194Z",
     "shell.execute_reply.started": "2023-03-30T06:08:00.060486Z"
    },
    "papermill": {
     "duration": null,
     "end_time": null,
     "exception": null,
     "start_time": null,
     "status": "pending"
    },
    "tags": []
   },
   "outputs": [],
   "source": [
    "\n",
    "os.makedirs('images', exist_ok=True)\n",
    "os.makedirs('labels', exist_ok=True)"
   ]
  },
  {
   "cell_type": "code",
   "execution_count": null,
   "id": "dbb3a916",
   "metadata": {
    "execution": {
     "iopub.execute_input": "2023-03-30T06:08:02.227942Z",
     "iopub.status.busy": "2023-03-30T06:08:02.227568Z",
     "iopub.status.idle": "2023-03-30T06:08:02.254799Z",
     "shell.execute_reply": "2023-03-30T06:08:02.253696Z",
     "shell.execute_reply.started": "2023-03-30T06:08:02.227911Z"
    },
    "papermill": {
     "duration": null,
     "end_time": null,
     "exception": null,
     "start_time": null,
     "status": "pending"
    },
    "tags": []
   },
   "outputs": [],
   "source": [
    "\n",
    "train_df = pd.read_csv(csv_path)\n",
    "labels=[]\n",
    "images = np.empty((0, 224, 224))"
   ]
  },
  {
   "cell_type": "code",
   "execution_count": null,
   "id": "5258b083",
   "metadata": {
    "execution": {
     "iopub.execute_input": "2023-03-30T06:08:04.104779Z",
     "iopub.status.busy": "2023-03-30T06:08:04.104340Z",
     "iopub.status.idle": "2023-03-30T06:27:16.941443Z",
     "shell.execute_reply": "2023-03-30T06:27:16.940420Z",
     "shell.execute_reply.started": "2023-03-30T06:08:04.104745Z"
    },
    "papermill": {
     "duration": null,
     "end_time": null,
     "exception": null,
     "start_time": null,
     "status": "pending"
    },
    "tags": []
   },
   "outputs": [],
   "source": [
    "# import gdcm, pylibjpeg\n",
    "images = np.empty((0, 224, 224))\n",
    "os.makedirs('training', exist_ok=True)\n",
    "\n",
    "counter=0\n",
    "\n",
    "for subdir in os.listdir(data_dir):\n",
    "    if(counter < 20):\n",
    "        counter+=1\n",
    "        print(counter)\n",
    "       \n",
    "        if os.path.isdir(os.path.join(data_dir, subdir)):\n",
    "            print('running')\n",
    "            \n",
    "            study_uid = subdir\n",
    "          \n",
    "            label = train_df[train_df['StudyInstanceUID'] == study_uid]['patient_overall'].values[0]\n",
    "            \n",
    "            for file in os.listdir(os.path.join(data_dir, subdir)):\n",
    "                \n",
    "                if file.endswith('.dcm'):\n",
    "                    \n",
    "                    try:\n",
    "                        dcm_file = pydicom.read_file(os.path.join(data_dir, subdir, file))\n",
    "                        dcm_file.PhotometricInterpretation = 'YBR_FULL'\n",
    "                        \n",
    "                        img = dcm_file.pixel_array.astype(float)\n",
    "                        img = (img / np.max(img)) * 255.0\n",
    "                   \n",
    "                        img = Image.fromarray(img.astype('uint8'))\n",
    "                        img = img.resize((224,224))\n",
    "                        img.save(os.path.join('training', str(file) + '.jpg'))\n",
    "                        img_arr = np.array(img)\n",
    "                        images = np.concatenate((images, [img_arr]))\n",
    "                        labels.append(label)\n",
    "                    \n",
    "                    except:\n",
    "                        print(\"Skipping file:\", file)\n",
    "                        continue\n",
    "                    \n",
    "                "
   ]
  },
  {
   "cell_type": "code",
   "execution_count": null,
   "id": "c6207262",
   "metadata": {
    "execution": {
     "iopub.execute_input": "2023-03-30T06:58:09.864326Z",
     "iopub.status.busy": "2023-03-30T06:58:09.863924Z",
     "iopub.status.idle": "2023-03-30T06:58:10.998396Z",
     "shell.execute_reply": "2023-03-30T06:58:10.997379Z",
     "shell.execute_reply.started": "2023-03-30T06:58:09.864298Z"
    },
    "papermill": {
     "duration": null,
     "end_time": null,
     "exception": null,
     "start_time": null,
     "status": "pending"
    },
    "tags": []
   },
   "outputs": [],
   "source": [
    "\n",
    "images=np.array(images)\n",
    "labels=np.array(labels)"
   ]
  },
  {
   "cell_type": "code",
   "execution_count": null,
   "id": "5336259c",
   "metadata": {
    "execution": {
     "iopub.execute_input": "2023-03-30T06:58:14.058902Z",
     "iopub.status.busy": "2023-03-30T06:58:14.058519Z",
     "iopub.status.idle": "2023-03-30T06:58:14.068840Z",
     "shell.execute_reply": "2023-03-30T06:58:14.067242Z",
     "shell.execute_reply.started": "2023-03-30T06:58:14.058867Z"
    },
    "papermill": {
     "duration": null,
     "end_time": null,
     "exception": null,
     "start_time": null,
     "status": "pending"
    },
    "tags": []
   },
   "outputs": [],
   "source": [
    "labels.shape"
   ]
  },
  {
   "cell_type": "code",
   "execution_count": null,
   "id": "f35ea378",
   "metadata": {
    "execution": {
     "iopub.execute_input": "2023-03-30T06:58:19.603692Z",
     "iopub.status.busy": "2023-03-30T06:58:19.603219Z",
     "iopub.status.idle": "2023-03-30T06:58:20.002284Z",
     "shell.execute_reply": "2023-03-30T06:58:20.000628Z",
     "shell.execute_reply.started": "2023-03-30T06:58:19.603654Z"
    },
    "papermill": {
     "duration": null,
     "end_time": null,
     "exception": null,
     "start_time": null,
     "status": "pending"
    },
    "tags": []
   },
   "outputs": [],
   "source": [
    "from sklearn.model_selection import train_test_split\n",
    "x_train, x_test, y_train, y_test = train_test_split(images, labels, test_size = 0.2, random_state = 42)"
   ]
  },
  {
   "cell_type": "code",
   "execution_count": null,
   "id": "8c146a0b",
   "metadata": {
    "execution": {
     "iopub.execute_input": "2023-03-30T06:58:23.832238Z",
     "iopub.status.busy": "2023-03-30T06:58:23.831443Z",
     "iopub.status.idle": "2023-03-30T06:58:23.841289Z",
     "shell.execute_reply": "2023-03-30T06:58:23.839252Z",
     "shell.execute_reply.started": "2023-03-30T06:58:23.832196Z"
    },
    "papermill": {
     "duration": null,
     "end_time": null,
     "exception": null,
     "start_time": null,
     "status": "pending"
    },
    "tags": []
   },
   "outputs": [],
   "source": [
    "print(f'x_train: {len(x_train)}')\n",
    "print(f'y_train: {len(y_train)}')\n",
    "print(f'x_test: {len(x_test)}')\n",
    "print(f'y_test: {len(y_test)}')"
   ]
  },
  {
   "cell_type": "code",
   "execution_count": null,
   "id": "0644ca3f",
   "metadata": {
    "execution": {
     "iopub.execute_input": "2023-03-29T09:32:27.001952Z",
     "iopub.status.busy": "2023-03-29T09:32:27.001486Z",
     "iopub.status.idle": "2023-03-29T09:32:27.010455Z",
     "shell.execute_reply": "2023-03-29T09:32:27.008850Z",
     "shell.execute_reply.started": "2023-03-29T09:32:27.001909Z"
    },
    "papermill": {
     "duration": null,
     "end_time": null,
     "exception": null,
     "start_time": null,
     "status": "pending"
    },
    "tags": []
   },
   "outputs": [],
   "source": [
    "x_test.shape"
   ]
  },
  {
   "cell_type": "code",
   "execution_count": null,
   "id": "a6e975dd",
   "metadata": {
    "execution": {
     "iopub.execute_input": "2023-03-30T06:58:36.608230Z",
     "iopub.status.busy": "2023-03-30T06:58:36.607796Z",
     "iopub.status.idle": "2023-03-30T06:58:36.614629Z",
     "shell.execute_reply": "2023-03-30T06:58:36.613230Z",
     "shell.execute_reply.started": "2023-03-30T06:58:36.608192Z"
    },
    "papermill": {
     "duration": null,
     "end_time": null,
     "exception": null,
     "start_time": null,
     "status": "pending"
    },
    "tags": []
   },
   "outputs": [],
   "source": [
    "x_train = np.reshape(x_train, (x_train.shape[0], -1))\n",
    "x_test = np.reshape(x_test, (x_test.shape[0], -1))"
   ]
  },
  {
   "cell_type": "code",
   "execution_count": null,
   "id": "e1a561c7",
   "metadata": {
    "execution": {
     "iopub.execute_input": "2023-03-29T09:33:44.565998Z",
     "iopub.status.busy": "2023-03-29T09:33:44.565282Z",
     "iopub.status.idle": "2023-03-29T09:33:44.573144Z",
     "shell.execute_reply": "2023-03-29T09:33:44.571471Z",
     "shell.execute_reply.started": "2023-03-29T09:33:44.565953Z"
    },
    "papermill": {
     "duration": null,
     "end_time": null,
     "exception": null,
     "start_time": null,
     "status": "pending"
    },
    "tags": []
   },
   "outputs": [],
   "source": [
    "x_test.shape"
   ]
  },
  {
   "cell_type": "code",
   "execution_count": null,
   "id": "8bb007eb",
   "metadata": {
    "execution": {
     "iopub.execute_input": "2023-03-30T07:00:07.706451Z",
     "iopub.status.busy": "2023-03-30T07:00:07.706084Z",
     "iopub.status.idle": "2023-03-30T07:00:15.938665Z",
     "shell.execute_reply": "2023-03-30T07:00:15.937601Z",
     "shell.execute_reply.started": "2023-03-30T07:00:07.706418Z"
    },
    "papermill": {
     "duration": null,
     "end_time": null,
     "exception": null,
     "start_time": null,
     "status": "pending"
    },
    "tags": []
   },
   "outputs": [],
   "source": [
    "from sklearn.neighbors import KNeighborsClassifier\n",
    "from sklearn.metrics import accuracy_score\n",
    "import time\n",
    "\n",
    "knn = KNeighborsClassifier(n_neighbors=5)\n",
    "start_time = time.time()\n",
    "knn_history = knn.fit(x_train, y_train)\n",
    "y_pred_knn = knn.predict(x_test) \n",
    "acc_knn = accuracy_score(y_test, y_pred_knn)\n",
    "end_time = time.time()\n",
    "\n",
    "print(acc_knn)\n",
    "print(\"Total training and testing time:\", end_time - start_time, \"seconds\")"
   ]
  },
  {
   "cell_type": "code",
   "execution_count": null,
   "id": "8c0eda33",
   "metadata": {
    "execution": {
     "iopub.execute_input": "2023-03-29T09:33:55.521464Z",
     "iopub.status.busy": "2023-03-29T09:33:55.521022Z",
     "iopub.status.idle": "2023-03-29T09:33:56.341556Z",
     "shell.execute_reply": "2023-03-29T09:33:56.337944Z",
     "shell.execute_reply.started": "2023-03-29T09:33:55.521405Z"
    },
    "papermill": {
     "duration": null,
     "end_time": null,
     "exception": null,
     "start_time": null,
     "status": "pending"
    },
    "tags": []
   },
   "outputs": [],
   "source": [
    "\n",
    "import time\n",
    "\n",
    "y_pred_knn = knn.predict(x_test)  \n",
    "print(y_pred_knn)"
   ]
  },
  {
   "cell_type": "code",
   "execution_count": null,
   "id": "a1ba788f",
   "metadata": {
    "execution": {
     "iopub.execute_input": "2023-03-30T07:02:20.002548Z",
     "iopub.status.busy": "2023-03-30T07:02:20.002154Z",
     "iopub.status.idle": "2023-03-30T07:02:20.035051Z",
     "shell.execute_reply": "2023-03-30T07:02:20.031984Z",
     "shell.execute_reply.started": "2023-03-30T07:02:20.002512Z"
    },
    "papermill": {
     "duration": null,
     "end_time": null,
     "exception": null,
     "start_time": null,
     "status": "pending"
    },
    "tags": []
   },
   "outputs": [],
   "source": [
    "plt.plot(3, knn_history.history['accuracy'], 'g', label='accuracy')\n",
    "plt.plot(3, knn_history.history['loss'], 'b', label='loss')\n",
    "plt.title('Accuracy vs. Loss for KNN')\n",
    "plt.xlabel('Epochs')\n",
    "plt.ylabel('Percentage')\n",
    "plt.legend()\n",
    "plt.show()"
   ]
  },
  {
   "cell_type": "code",
   "execution_count": null,
   "id": "ef70ced8",
   "metadata": {
    "execution": {
     "iopub.execute_input": "2023-03-29T09:32:59.433433Z",
     "iopub.status.busy": "2023-03-29T09:32:59.432993Z",
     "iopub.status.idle": "2023-03-29T09:32:59.441762Z",
     "shell.execute_reply": "2023-03-29T09:32:59.440198Z",
     "shell.execute_reply.started": "2023-03-29T09:32:59.433393Z"
    },
    "papermill": {
     "duration": null,
     "end_time": null,
     "exception": null,
     "start_time": null,
     "status": "pending"
    },
    "tags": []
   },
   "outputs": [],
   "source": [
    "x_test.shape\n"
   ]
  },
  {
   "cell_type": "code",
   "execution_count": null,
   "id": "ea62c85e",
   "metadata": {
    "execution": {
     "iopub.execute_input": "2023-03-29T09:34:40.998395Z",
     "iopub.status.busy": "2023-03-29T09:34:40.997944Z",
     "iopub.status.idle": "2023-03-29T09:34:41.006913Z",
     "shell.execute_reply": "2023-03-29T09:34:41.005507Z",
     "shell.execute_reply.started": "2023-03-29T09:34:40.998355Z"
    },
    "papermill": {
     "duration": null,
     "end_time": null,
     "exception": null,
     "start_time": null,
     "status": "pending"
    },
    "tags": []
   },
   "outputs": [],
   "source": [
    "acc = accuracy_score(y_test, y_pred_knn)\n",
    "print(acc)"
   ]
  },
  {
   "cell_type": "code",
   "execution_count": null,
   "id": "20cafe15",
   "metadata": {
    "execution": {
     "iopub.execute_input": "2023-03-30T07:02:27.219257Z",
     "iopub.status.busy": "2023-03-30T07:02:27.217752Z",
     "iopub.status.idle": "2023-03-30T07:04:18.923924Z",
     "shell.execute_reply": "2023-03-30T07:04:18.922926Z",
     "shell.execute_reply.started": "2023-03-30T07:02:27.219191Z"
    },
    "papermill": {
     "duration": null,
     "end_time": null,
     "exception": null,
     "start_time": null,
     "status": "pending"
    },
    "tags": []
   },
   "outputs": [],
   "source": [
    "from sklearn.tree import DecisionTreeClassifier\n",
    "dt = DecisionTreeClassifier(random_state=42)\n",
    "\n",
    "start_time = time.time()\n",
    "dt_history = dt.fit(x_train, y_train)\n",
    "y_pred_dt = dt.predict(x_test) \n",
    "acc_dt = accuracy_score(y_test, y_pred_dt)\n",
    "end_time = time.time()\n",
    "print(acc_dt)\n",
    "print(\"Total training and testing time:\", end_time - start_time, \"seconds\")"
   ]
  },
  {
   "cell_type": "code",
   "execution_count": null,
   "id": "70979b15",
   "metadata": {
    "papermill": {
     "duration": null,
     "end_time": null,
     "exception": null,
     "start_time": null,
     "status": "pending"
    },
    "tags": []
   },
   "outputs": [],
   "source": [
    "plt.plot(epochs, loss_train, 'g', label='Training loss')\n",
    "plt.plot(epochs, loss_val, 'b', label='validation loss')\n",
    "plt.title('Training and Validation loss')\n",
    "plt.xlabel('Epochs')\n",
    "plt.ylabel('Loss')\n",
    "plt.legend()\n",
    "plt.show()"
   ]
  },
  {
   "cell_type": "code",
   "execution_count": null,
   "id": "73c24402",
   "metadata": {
    "execution": {
     "iopub.execute_input": "2023-03-30T07:10:37.453879Z",
     "iopub.status.busy": "2023-03-30T07:10:37.453498Z",
     "iopub.status.idle": "2023-03-30T07:10:37.587629Z",
     "shell.execute_reply": "2023-03-30T07:10:37.585967Z",
     "shell.execute_reply.started": "2023-03-30T07:10:37.453850Z"
    },
    "papermill": {
     "duration": null,
     "end_time": null,
     "exception": null,
     "start_time": null,
     "status": "pending"
    },
    "tags": []
   },
   "outputs": [],
   "source": [
    "from sklearn.ensemble import VotingClassifier\n",
    "voting_classifier_soft = VotingClassifier(\n",
    "    estimators = [('dt',dt),\n",
    "                  ('knn', knn)], voting='soft')\n"
   ]
  },
  {
   "cell_type": "code",
   "execution_count": null,
   "id": "d3c11ec7",
   "metadata": {
    "execution": {
     "iopub.execute_input": "2023-03-30T07:10:40.889263Z",
     "iopub.status.busy": "2023-03-30T07:10:40.888886Z",
     "iopub.status.idle": "2023-03-30T07:12:40.105839Z",
     "shell.execute_reply": "2023-03-30T07:12:40.104404Z",
     "shell.execute_reply.started": "2023-03-30T07:10:40.889231Z"
    },
    "papermill": {
     "duration": null,
     "end_time": null,
     "exception": null,
     "start_time": null,
     "status": "pending"
    },
    "tags": []
   },
   "outputs": [],
   "source": [
    "import time\n",
    "\n",
    "start_time = time.time()\n",
    "\n",
    "voting_classifier_soft.fit(x_train, y_train)\n",
    "y_pred_soft = voting_classifier_soft.predict(x_test)\n",
    "acc_soft = accuracy_score(y_test, y_pred_soft)\n",
    "end_time = time.time()\n",
    "print(acc_soft)"
   ]
  },
  {
   "cell_type": "code",
   "execution_count": null,
   "id": "84c4d906",
   "metadata": {
    "execution": {
     "iopub.execute_input": "2023-03-30T07:13:53.044009Z",
     "iopub.status.busy": "2023-03-30T07:13:53.043573Z",
     "iopub.status.idle": "2023-03-30T07:13:53.052236Z",
     "shell.execute_reply": "2023-03-30T07:13:53.050053Z",
     "shell.execute_reply.started": "2023-03-30T07:13:53.043968Z"
    },
    "papermill": {
     "duration": null,
     "end_time": null,
     "exception": null,
     "start_time": null,
     "status": "pending"
    },
    "tags": []
   },
   "outputs": [],
   "source": [
    "print(end_time-start_time)"
   ]
  }
 ],
 "metadata": {
  "kernelspec": {
   "display_name": "Python 3",
   "language": "python",
   "name": "python3"
  },
  "language_info": {
   "codemirror_mode": {
    "name": "ipython",
    "version": 3
   },
   "file_extension": ".py",
   "mimetype": "text/x-python",
   "name": "python",
   "nbconvert_exporter": "python",
   "pygments_lexer": "ipython3",
   "version": "3.7.12"
  },
  "papermill": {
   "default_parameters": {},
   "duration": 95.070978,
   "end_time": "2023-03-30T10:02:57.700751",
   "environment_variables": {},
   "exception": true,
   "input_path": "__notebook__.ipynb",
   "output_path": "__notebook__.ipynb",
   "parameters": {},
   "start_time": "2023-03-30T10:01:22.629773",
   "version": "2.4.0"
  }
 },
 "nbformat": 4,
 "nbformat_minor": 5
}
