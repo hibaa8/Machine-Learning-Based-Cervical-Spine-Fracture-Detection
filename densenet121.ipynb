{
 "cells": [
  {
   "cell_type": "code",
   "execution_count": null,
   "id": "8ffdbb4b",
   "metadata": {
    "execution": {
     "iopub.execute_input": "2023-03-30T07:57:09.276490Z",
     "iopub.status.busy": "2023-03-30T07:57:09.276041Z",
     "iopub.status.idle": "2023-03-30T07:57:17.154357Z",
     "shell.execute_reply": "2023-03-30T07:57:17.153075Z",
     "shell.execute_reply.started": "2023-03-30T07:57:09.276454Z"
    },
    "papermill": {
     "duration": null,
     "end_time": null,
     "exception": null,
     "start_time": null,
     "status": "pending"
    },
    "tags": []
   },
   "outputs": [],
   "source": [
    "from tensorflow.keras.layers import Dense, GlobalAveragePooling2D\n",
    "from tensorflow.keras.applications import DenseNet121\n",
    "from tensorflow.keras.models import Model\n",
    "\n",
    "base_model = DenseNet121(weights='imagenet', include_top=False, input_shape=(224, 224, 3))\n",
    "x = base_model.output\n",
    "x = GlobalAveragePooling2D()(x)\n",
    "x = Dense(256, activation='relu')(x)\n",
    "predictions = Dense(2, activation='softmax')(x)\n",
    "model = Model(inputs=base_model.input, outputs=predictions)\n",
    "for layer in base_model.layers:\n",
    "    layer.trainable = False\n",
    "model.compile(loss='binary_crossentropy', optimizer='adam', metrics=['accuracy'])\n"
   ]
  },
  {
   "cell_type": "code",
   "execution_count": null,
   "id": "489d6057",
   "metadata": {
    "execution": {
     "iopub.execute_input": "2023-03-30T07:57:27.636658Z",
     "iopub.status.busy": "2023-03-30T07:57:27.635533Z",
     "iopub.status.idle": "2023-03-30T07:57:31.997434Z",
     "shell.execute_reply": "2023-03-30T07:57:31.996214Z",
     "shell.execute_reply.started": "2023-03-30T07:57:27.636603Z"
    },
    "papermill": {
     "duration": null,
     "end_time": null,
     "exception": null,
     "start_time": null,
     "status": "pending"
    },
    "tags": []
   },
   "outputs": [],
   "source": [
    "import numpy as np\n",
    "\n",
    "x_train = np.expand_dims(x_train, axis=-1)\n",
    "\n",
    "x_train = np.repeat(x_train, 3, axis=-1)\n"
   ]
  },
  {
   "cell_type": "code",
   "execution_count": null,
   "id": "55ab84b2",
   "metadata": {
    "execution": {
     "iopub.execute_input": "2023-03-30T07:57:34.619645Z",
     "iopub.status.busy": "2023-03-30T07:57:34.619096Z",
     "iopub.status.idle": "2023-03-30T07:57:35.576915Z",
     "shell.execute_reply": "2023-03-30T07:57:35.575018Z",
     "shell.execute_reply.started": "2023-03-30T07:57:34.619577Z"
    },
    "papermill": {
     "duration": null,
     "end_time": null,
     "exception": null,
     "start_time": null,
     "status": "pending"
    },
    "tags": []
   },
   "outputs": [],
   "source": [
    "\n",
    "x_test = np.expand_dims(x_test, axis=-1)\n",
    "\n",
    "x_test = np.repeat(x_test, 3, axis=-1)"
   ]
  },
  {
   "cell_type": "code",
   "execution_count": null,
   "id": "36fd3d3c",
   "metadata": {
    "execution": {
     "iopub.execute_input": "2023-03-30T07:57:40.847971Z",
     "iopub.status.busy": "2023-03-30T07:57:40.847364Z",
     "iopub.status.idle": "2023-03-30T07:57:40.857652Z",
     "shell.execute_reply": "2023-03-30T07:57:40.855889Z",
     "shell.execute_reply.started": "2023-03-30T07:57:40.847920Z"
    },
    "papermill": {
     "duration": null,
     "end_time": null,
     "exception": null,
     "start_time": null,
     "status": "pending"
    },
    "tags": []
   },
   "outputs": [],
   "source": [
    "x_test.shape"
   ]
  },
  {
   "cell_type": "code",
   "execution_count": null,
   "id": "55c47af2",
   "metadata": {
    "execution": {
     "iopub.execute_input": "2023-03-29T09:16:39.716028Z",
     "iopub.status.busy": "2023-03-29T09:16:39.715178Z",
     "iopub.status.idle": "2023-03-29T09:44:02.993714Z",
     "shell.execute_reply": "2023-03-29T09:44:02.991763Z",
     "shell.execute_reply.started": "2023-03-29T09:16:39.715983Z"
    },
    "papermill": {
     "duration": null,
     "end_time": null,
     "exception": null,
     "start_time": null,
     "status": "pending"
    },
    "tags": []
   },
   "outputs": [],
   "source": [
    "import tensorflow as tf\n",
    "tf.config.run_functions_eagerly(True)\n",
    "model.fit(x_train, y_train, epochs=3, batch_size=32)"
   ]
  },
  {
   "cell_type": "code",
   "execution_count": null,
   "id": "5e95f43c",
   "metadata": {
    "execution": {
     "iopub.execute_input": "2023-03-29T09:51:53.815120Z",
     "iopub.status.busy": "2023-03-29T09:51:53.814069Z",
     "iopub.status.idle": "2023-03-29T09:52:28.767765Z",
     "shell.execute_reply": "2023-03-29T09:52:28.766412Z",
     "shell.execute_reply.started": "2023-03-29T09:51:53.815057Z"
    },
    "papermill": {
     "duration": null,
     "end_time": null,
     "exception": null,
     "start_time": null,
     "status": "pending"
    },
    "tags": []
   },
   "outputs": [],
   "source": [
    "test_loss, test_acc = model.evaluate(x_test, y_test)\n",
    "\n",
    "print('Test accuracy:', test_acc)"
   ]
  },
  {
   "cell_type": "code",
   "execution_count": null,
   "id": "4fac205a",
   "metadata": {
    "execution": {
     "iopub.execute_input": "2023-03-30T07:57:46.676733Z",
     "iopub.status.busy": "2023-03-30T07:57:46.676188Z",
     "iopub.status.idle": "2023-03-30T08:20:24.231183Z",
     "shell.execute_reply": "2023-03-30T08:20:24.229321Z",
     "shell.execute_reply.started": "2023-03-30T07:57:46.676689Z"
    },
    "papermill": {
     "duration": null,
     "end_time": null,
     "exception": null,
     "start_time": null,
     "status": "pending"
    },
    "tags": []
   },
   "outputs": [],
   "source": [
    "import matplotlib.pyplot as plt\n",
    "import time\n",
    "\n",
    "start_time = time.time()\n",
    "\n",
    "history = model.fit(x_train, y_train, epochs=3)\n",
    "\n",
    "end_time = time.time()\n",
    "\n",
    "print(\"Total training time:\", end_time - start_time, \"seconds\")\n"
   ]
  },
  {
   "cell_type": "code",
   "execution_count": null,
   "id": "4323d39a",
   "metadata": {
    "execution": {
     "iopub.execute_input": "2023-03-30T08:25:21.274717Z",
     "iopub.status.busy": "2023-03-30T08:25:21.273303Z",
     "iopub.status.idle": "2023-03-30T08:27:32.999071Z",
     "shell.execute_reply": "2023-03-30T08:27:32.997691Z",
     "shell.execute_reply.started": "2023-03-30T08:25:21.274647Z"
    },
    "papermill": {
     "duration": null,
     "end_time": null,
     "exception": null,
     "start_time": null,
     "status": "pending"
    },
    "tags": []
   },
   "outputs": [],
   "source": [
    "start_time = time.time()\n",
    "\n",
    "loss, test_acc = model.evaluate(x_test, y_test)\n",
    "\n",
    "end_time = time.time()\n",
    "\n",
    "print(\"Total testing time:\", end_time - start_time, \"seconds\")\n"
   ]
  },
  {
   "cell_type": "code",
   "execution_count": null,
   "id": "9ec04a45",
   "metadata": {
    "execution": {
     "iopub.execute_input": "2023-03-30T08:32:58.240866Z",
     "iopub.status.busy": "2023-03-30T08:32:58.239936Z",
     "iopub.status.idle": "2023-03-30T08:32:58.498507Z",
     "shell.execute_reply": "2023-03-30T08:32:58.496921Z",
     "shell.execute_reply.started": "2023-03-30T08:32:58.240814Z"
    },
    "papermill": {
     "duration": null,
     "end_time": null,
     "exception": null,
     "start_time": null,
     "status": "pending"
    },
    "tags": []
   },
   "outputs": [],
   "source": [
    "\n",
    "plt.plot(history.history['accuracy'])\n",
    "plt.plot(history.history['loss'])\n",
    "plt.title('Accuracy vs. Loss')\n",
    "plt.ylabel('Percentage')\n",
    "plt.xlabel('Epoch')\n",
    "plt.legend(['Train', 'Validation'], loc='upper left')\n",
    "plt.show()\n"
   ]
  }
 ],
 "metadata": {
  "kernelspec": {
   "display_name": "Python 3",
   "language": "python",
   "name": "python3"
  },
  "language_info": {
   "codemirror_mode": {
    "name": "ipython",
    "version": 3
   },
   "file_extension": ".py",
   "mimetype": "text/x-python",
   "name": "python",
   "nbconvert_exporter": "python",
   "pygments_lexer": "ipython3",
   "version": "3.7.12"
  },
  "papermill": {
   "default_parameters": {},
   "duration": 27.981007,
   "end_time": "2023-03-30T10:01:42.292841",
   "environment_variables": {},
   "exception": true,
   "input_path": "__notebook__.ipynb",
   "output_path": "__notebook__.ipynb",
   "parameters": {},
   "start_time": "2023-03-30T10:01:14.311834",
   "version": "2.4.0"
  }
 },
 "nbformat": 4,
 "nbformat_minor": 5
}
