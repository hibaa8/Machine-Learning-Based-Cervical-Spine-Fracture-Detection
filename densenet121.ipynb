{
 "cells": [
  {
   "cell_type": "code",
   "execution_count": 1,
   "id": "c1fb27ba",
   "metadata": {
    "execution": {
     "iopub.execute_input": "2023-03-30T10:01:25.867595Z",
     "iopub.status.busy": "2023-03-30T10:01:25.867206Z",
     "iopub.status.idle": "2023-03-30T10:01:38.765997Z",
     "shell.execute_reply": "2023-03-30T10:01:38.763608Z"
    },
    "papermill": {
     "duration": 12.910945,
     "end_time": "2023-03-30T10:01:38.769459",
     "exception": false,
     "start_time": "2023-03-30T10:01:25.858514",
     "status": "completed"
    },
    "tags": []
   },
   "outputs": [],
   "source": [
    "import os\n",
    "import numpy as np\n",
    "import pandas as pd\n",
    "import matplotlib.pyplot as plt\n",
    "import pydicom\n",
    "from PIL import Image\n",
    "from sklearn.model_selection import train_test_split\n",
    "from keras.preprocessing.image import ImageDataGenerator\n",
    "from keras.applications.densenet import preprocess_input\n",
    "from keras.utils import to_categorical"
   ]
  },
  {
   "cell_type": "code",
   "execution_count": 3,
   "id": "56b3d6d7",
   "metadata": {
    "execution": {
     "iopub.execute_input": "2023-03-30T10:01:38.807633Z",
     "iopub.status.busy": "2023-03-30T10:01:38.807182Z",
     "iopub.status.idle": "2023-03-30T10:01:38.814326Z",
     "shell.execute_reply": "2023-03-30T10:01:38.812223Z"
    },
    "papermill": {
     "duration": 0.017944,
     "end_time": "2023-03-30T10:01:38.817687",
     "exception": false,
     "start_time": "2023-03-30T10:01:38.799743",
     "status": "completed"
    },
    "tags": []
   },
   "outputs": [],
   "source": [
    "data_dir = '/kaggle/input/rsna-2022-cervical-spine-fracture-detection/train_images'\n",
    "csv_path = '/kaggle/input/rsna-2022-cervical-spine-fracture-detection/train.csv'\n",
    "images_dir = '/kaggle/working/images_dir'\n",
    "labels = []"
   ]
  },
  {
   "cell_type": "code",
   "execution_count": null,
   "id": "a4ddf90b",
   "metadata": {
    "execution": {
     "iopub.execute_input": "2023-03-30T10:01:38.833147Z",
     "iopub.status.busy": "2023-03-30T10:01:38.832736Z",
     "iopub.status.idle": "2023-03-30T10:01:39.135498Z",
     "shell.execute_reply": "2023-03-30T10:01:39.133329Z"
    },
    "papermill": {
     "duration": 0.313824,
     "end_time": "2023-03-30T10:01:39.137893",
     "exception": true,
     "start_time": "2023-03-30T10:01:38.824069",
     "status": "failed"
    },
    "tags": []
   },
   "outputs": [],
   "source": [
    "import shutil\n",
    "\n",
    "shutil.rmtree('/kaggle/working/images')\n",
    "shutil.rmtree('/kaggle/working/labels')"
   ]
  },
  {
   "cell_type": "code",
   "execution_count": null,
   "id": "5578c869",
   "metadata": {
    "execution": {
     "iopub.execute_input": "2023-03-29T08:40:42.199901Z",
     "iopub.status.busy": "2023-03-29T08:40:42.198749Z",
     "iopub.status.idle": "2023-03-29T08:40:42.551857Z",
     "shell.execute_reply": "2023-03-29T08:40:42.549919Z",
     "shell.execute_reply.started": "2023-03-29T08:40:42.199865Z"
    },
    "papermill": {
     "duration": null,
     "end_time": null,
     "exception": null,
     "start_time": null,
     "status": "pending"
    },
    "tags": []
   },
   "outputs": [],
   "source": [
    "shutil.rmtree('/kaggle/working/training')"
   ]
  },
  {
   "cell_type": "code",
   "execution_count": null,
   "id": "4d9be81c",
   "metadata": {
    "execution": {
     "iopub.execute_input": "2023-03-30T07:03:32.125378Z",
     "iopub.status.busy": "2023-03-30T07:03:32.124776Z",
     "iopub.status.idle": "2023-03-30T07:03:32.132371Z",
     "shell.execute_reply": "2023-03-30T07:03:32.130662Z",
     "shell.execute_reply.started": "2023-03-30T07:03:32.125328Z"
    },
    "papermill": {
     "duration": null,
     "end_time": null,
     "exception": null,
     "start_time": null,
     "status": "pending"
    },
    "tags": []
   },
   "outputs": [],
   "source": [
    "\n",
    "os.makedirs('images', exist_ok=True)\n",
    "os.makedirs('labels', exist_ok=True)"
   ]
  },
  {
   "cell_type": "code",
   "execution_count": null,
   "id": "1275e82b",
   "metadata": {
    "execution": {
     "iopub.execute_input": "2023-03-30T07:03:34.252457Z",
     "iopub.status.busy": "2023-03-30T07:03:34.252001Z",
     "iopub.status.idle": "2023-03-30T07:03:34.277950Z",
     "shell.execute_reply": "2023-03-30T07:03:34.276531Z",
     "shell.execute_reply.started": "2023-03-30T07:03:34.252420Z"
    },
    "papermill": {
     "duration": null,
     "end_time": null,
     "exception": null,
     "start_time": null,
     "status": "pending"
    },
    "tags": []
   },
   "outputs": [],
   "source": [
    "import pandas as pd\n",
    "train_df = pd.read_csv(csv_path)\n",
    "labels=[]\n",
    "images = np.empty((0, 224, 224))"
   ]
  },
  {
   "cell_type": "code",
   "execution_count": null,
   "id": "b3575066",
   "metadata": {
    "execution": {
     "iopub.execute_input": "2023-03-30T07:03:37.580343Z",
     "iopub.status.busy": "2023-03-30T07:03:37.579917Z",
     "iopub.status.idle": "2023-03-30T07:52:50.243774Z",
     "shell.execute_reply": "2023-03-30T07:52:50.242059Z",
     "shell.execute_reply.started": "2023-03-30T07:03:37.580306Z"
    },
    "papermill": {
     "duration": null,
     "end_time": null,
     "exception": null,
     "start_time": null,
     "status": "pending"
    },
    "tags": []
   },
   "outputs": [],
   "source": [
    "\n",
    "images = np.empty((0, 224, 224))\n",
    "os.makedirs('training', exist_ok=True)\n",
    "\n",
    "counter=0\n",
    "\n",
    "for subdir in os.listdir(data_dir):\n",
    "    if(counter < 20):\n",
    "        counter+=1\n",
    "        print(counter)\n",
    "       \n",
    "        if os.path.isdir(os.path.join(data_dir, subdir)):\n",
    "            print('running')\n",
    "            \n",
    "            study_uid = subdir\n",
    "            label = train_df[train_df['StudyInstanceUID'] == study_uid]['patient_overall'].values[0]\n",
    "            \n",
    "            for file in os.listdir(os.path.join(data_dir, subdir)):\n",
    "                \n",
    "                if file.endswith('.dcm'):\n",
    "                    \n",
    "                    try:\n",
    "                        dcm_file = pydicom.read_file(os.path.join(data_dir, subdir, file))\n",
    "                        dcm_file.PhotometricInterpretation = 'YBR_FULL'\n",
    "                        img = dcm_file.pixel_array.astype(float)\n",
    "                        img = (img / np.max(img)) * 255.0\n",
    "                   \n",
    "                        img = Image.fromarray(img.astype('uint8'))\n",
    "                        img = img.resize((224,224))\n",
    "                        img.save(os.path.join('training', str(file) + '.jpg'))\n",
    "                        img_arr = np.array(img)\n",
    "                        images = np.concatenate((images, [img_arr]))\n",
    "                        labels.append(label)\n",
    "                    \n",
    "                    except:\n",
    "                        print(\"Skipping file:\", file)\n",
    "                        continue\n",
    "                    "
   ]
  },
  {
   "cell_type": "code",
   "execution_count": null,
   "id": "d8a82668",
   "metadata": {
    "execution": {
     "iopub.execute_input": "2023-03-30T07:56:54.439852Z",
     "iopub.status.busy": "2023-03-30T07:56:54.439322Z",
     "iopub.status.idle": "2023-03-30T07:56:55.820852Z",
     "shell.execute_reply": "2023-03-30T07:56:55.819603Z",
     "shell.execute_reply.started": "2023-03-30T07:56:54.439805Z"
    },
    "papermill": {
     "duration": null,
     "end_time": null,
     "exception": null,
     "start_time": null,
     "status": "pending"
    },
    "tags": []
   },
   "outputs": [],
   "source": [
    "from tensorflow.keras.utils import to_categorical\n",
    "images=np.array(images)\n",
    "labels=to_categorical(np.array(labels))"
   ]
  },
  {
   "cell_type": "code",
   "execution_count": null,
   "id": "17f53b7f",
   "metadata": {
    "execution": {
     "iopub.execute_input": "2023-03-30T07:56:58.060622Z",
     "iopub.status.busy": "2023-03-30T07:56:58.060116Z",
     "iopub.status.idle": "2023-03-30T07:56:58.071727Z",
     "shell.execute_reply": "2023-03-30T07:56:58.070002Z",
     "shell.execute_reply.started": "2023-03-30T07:56:58.060560Z"
    },
    "papermill": {
     "duration": null,
     "end_time": null,
     "exception": null,
     "start_time": null,
     "status": "pending"
    },
    "tags": []
   },
   "outputs": [],
   "source": [
    "images.shape"
   ]
  },
  {
   "cell_type": "code",
   "execution_count": null,
   "id": "6d0951c9",
   "metadata": {
    "execution": {
     "iopub.execute_input": "2023-03-30T07:57:03.028518Z",
     "iopub.status.busy": "2023-03-30T07:57:03.027930Z",
     "iopub.status.idle": "2023-03-30T07:57:03.039025Z",
     "shell.execute_reply": "2023-03-30T07:57:03.037087Z",
     "shell.execute_reply.started": "2023-03-30T07:57:03.028460Z"
    },
    "papermill": {
     "duration": null,
     "end_time": null,
     "exception": null,
     "start_time": null,
     "status": "pending"
    },
    "tags": []
   },
   "outputs": [],
   "source": [
    "labels.shape"
   ]
  },
  {
   "cell_type": "code",
   "execution_count": null,
   "id": "a3497b7f",
   "metadata": {
    "execution": {
     "iopub.execute_input": "2023-03-30T07:57:00.921154Z",
     "iopub.status.busy": "2023-03-30T07:57:00.920605Z",
     "iopub.status.idle": "2023-03-30T07:57:01.710147Z",
     "shell.execute_reply": "2023-03-30T07:57:01.708565Z",
     "shell.execute_reply.started": "2023-03-30T07:57:00.921109Z"
    },
    "papermill": {
     "duration": null,
     "end_time": null,
     "exception": null,
     "start_time": null,
     "status": "pending"
    },
    "tags": []
   },
   "outputs": [],
   "source": [
    "from sklearn.model_selection import train_test_split\n",
    "x_train, x_test, y_train, y_test = train_test_split(images, labels, test_size = 0.2, random_state = 42)"
   ]
  },
  {
   "cell_type": "code",
   "execution_count": null,
   "id": "24425f87",
   "metadata": {
    "execution": {
     "iopub.execute_input": "2023-03-29T04:18:04.477755Z",
     "iopub.status.busy": "2023-03-29T04:18:04.476587Z",
     "iopub.status.idle": "2023-03-29T04:18:04.485519Z",
     "shell.execute_reply": "2023-03-29T04:18:04.484257Z",
     "shell.execute_reply.started": "2023-03-29T04:18:04.477712Z"
    },
    "papermill": {
     "duration": null,
     "end_time": null,
     "exception": null,
     "start_time": null,
     "status": "pending"
    },
    "tags": []
   },
   "outputs": [],
   "source": [
    "y_train"
   ]
  },
  {
   "cell_type": "code",
   "execution_count": null,
   "id": "210f1190",
   "metadata": {
    "execution": {
     "iopub.execute_input": "2023-03-30T07:57:05.829208Z",
     "iopub.status.busy": "2023-03-30T07:57:05.828641Z",
     "iopub.status.idle": "2023-03-30T07:57:05.838156Z",
     "shell.execute_reply": "2023-03-30T07:57:05.836409Z",
     "shell.execute_reply.started": "2023-03-30T07:57:05.829162Z"
    },
    "papermill": {
     "duration": null,
     "end_time": null,
     "exception": null,
     "start_time": null,
     "status": "pending"
    },
    "tags": []
   },
   "outputs": [],
   "source": [
    "print(f'x_train: {len(x_train)}')\n",
    "print(f'y_train: {len(y_train)}')\n",
    "print(f'x_test: {len(x_test)}')\n",
    "print(f'y_test: {len(y_test)}')"
   ]
  },
  {
   "cell_type": "code",
   "execution_count": null,
   "id": "8ffdbb4b",
   "metadata": {
    "execution": {
     "iopub.execute_input": "2023-03-30T07:57:09.276490Z",
     "iopub.status.busy": "2023-03-30T07:57:09.276041Z",
     "iopub.status.idle": "2023-03-30T07:57:17.154357Z",
     "shell.execute_reply": "2023-03-30T07:57:17.153075Z",
     "shell.execute_reply.started": "2023-03-30T07:57:09.276454Z"
    },
    "papermill": {
     "duration": null,
     "end_time": null,
     "exception": null,
     "start_time": null,
     "status": "pending"
    },
    "tags": []
   },
   "outputs": [],
   "source": [
    "from tensorflow.keras.layers import Dense, GlobalAveragePooling2D\n",
    "from tensorflow.keras.applications import DenseNet121\n",
    "from tensorflow.keras.models import Model\n",
    "\n",
    "base_model = DenseNet121(weights='imagenet', include_top=False, input_shape=(224, 224, 3))\n",
    "x = base_model.output\n",
    "x = GlobalAveragePooling2D()(x)\n",
    "x = Dense(256, activation='relu')(x)\n",
    "predictions = Dense(2, activation='softmax')(x)\n",
    "model = Model(inputs=base_model.input, outputs=predictions)\n",
    "for layer in base_model.layers:\n",
    "    layer.trainable = False\n",
    "model.compile(loss='binary_crossentropy', optimizer='adam', metrics=['accuracy'])\n"
   ]
  },
  {
   "cell_type": "code",
   "execution_count": null,
   "id": "489d6057",
   "metadata": {
    "execution": {
     "iopub.execute_input": "2023-03-30T07:57:27.636658Z",
     "iopub.status.busy": "2023-03-30T07:57:27.635533Z",
     "iopub.status.idle": "2023-03-30T07:57:31.997434Z",
     "shell.execute_reply": "2023-03-30T07:57:31.996214Z",
     "shell.execute_reply.started": "2023-03-30T07:57:27.636603Z"
    },
    "papermill": {
     "duration": null,
     "end_time": null,
     "exception": null,
     "start_time": null,
     "status": "pending"
    },
    "tags": []
   },
   "outputs": [],
   "source": [
    "import numpy as np\n",
    "\n",
    "x_train = np.expand_dims(x_train, axis=-1)\n",
    "\n",
    "x_train = np.repeat(x_train, 3, axis=-1)\n"
   ]
  },
  {
   "cell_type": "code",
   "execution_count": null,
   "id": "55ab84b2",
   "metadata": {
    "execution": {
     "iopub.execute_input": "2023-03-30T07:57:34.619645Z",
     "iopub.status.busy": "2023-03-30T07:57:34.619096Z",
     "iopub.status.idle": "2023-03-30T07:57:35.576915Z",
     "shell.execute_reply": "2023-03-30T07:57:35.575018Z",
     "shell.execute_reply.started": "2023-03-30T07:57:34.619577Z"
    },
    "papermill": {
     "duration": null,
     "end_time": null,
     "exception": null,
     "start_time": null,
     "status": "pending"
    },
    "tags": []
   },
   "outputs": [],
   "source": [
    "\n",
    "x_test = np.expand_dims(x_test, axis=-1)\n",
    "\n",
    "x_test = np.repeat(x_test, 3, axis=-1)"
   ]
  },
  {
   "cell_type": "code",
   "execution_count": null,
   "id": "36fd3d3c",
   "metadata": {
    "execution": {
     "iopub.execute_input": "2023-03-30T07:57:40.847971Z",
     "iopub.status.busy": "2023-03-30T07:57:40.847364Z",
     "iopub.status.idle": "2023-03-30T07:57:40.857652Z",
     "shell.execute_reply": "2023-03-30T07:57:40.855889Z",
     "shell.execute_reply.started": "2023-03-30T07:57:40.847920Z"
    },
    "papermill": {
     "duration": null,
     "end_time": null,
     "exception": null,
     "start_time": null,
     "status": "pending"
    },
    "tags": []
   },
   "outputs": [],
   "source": [
    "x_test.shape"
   ]
  },
  {
   "cell_type": "code",
   "execution_count": null,
   "id": "55c47af2",
   "metadata": {
    "execution": {
     "iopub.execute_input": "2023-03-29T09:16:39.716028Z",
     "iopub.status.busy": "2023-03-29T09:16:39.715178Z",
     "iopub.status.idle": "2023-03-29T09:44:02.993714Z",
     "shell.execute_reply": "2023-03-29T09:44:02.991763Z",
     "shell.execute_reply.started": "2023-03-29T09:16:39.715983Z"
    },
    "papermill": {
     "duration": null,
     "end_time": null,
     "exception": null,
     "start_time": null,
     "status": "pending"
    },
    "tags": []
   },
   "outputs": [],
   "source": [
    "import tensorflow as tf\n",
    "tf.config.run_functions_eagerly(True)\n",
    "model.fit(x_train, y_train, epochs=3, batch_size=32)"
   ]
  },
  {
   "cell_type": "code",
   "execution_count": null,
   "id": "5e95f43c",
   "metadata": {
    "execution": {
     "iopub.execute_input": "2023-03-29T09:51:53.815120Z",
     "iopub.status.busy": "2023-03-29T09:51:53.814069Z",
     "iopub.status.idle": "2023-03-29T09:52:28.767765Z",
     "shell.execute_reply": "2023-03-29T09:52:28.766412Z",
     "shell.execute_reply.started": "2023-03-29T09:51:53.815057Z"
    },
    "papermill": {
     "duration": null,
     "end_time": null,
     "exception": null,
     "start_time": null,
     "status": "pending"
    },
    "tags": []
   },
   "outputs": [],
   "source": [
    "test_loss, test_acc = model.evaluate(x_test, y_test)\n",
    "\n",
    "print('Test accuracy:', test_acc)"
   ]
  },
  {
   "cell_type": "code",
   "execution_count": null,
   "id": "4fac205a",
   "metadata": {
    "execution": {
     "iopub.execute_input": "2023-03-30T07:57:46.676733Z",
     "iopub.status.busy": "2023-03-30T07:57:46.676188Z",
     "iopub.status.idle": "2023-03-30T08:20:24.231183Z",
     "shell.execute_reply": "2023-03-30T08:20:24.229321Z",
     "shell.execute_reply.started": "2023-03-30T07:57:46.676689Z"
    },
    "papermill": {
     "duration": null,
     "end_time": null,
     "exception": null,
     "start_time": null,
     "status": "pending"
    },
    "tags": []
   },
   "outputs": [],
   "source": [
    "import matplotlib.pyplot as plt\n",
    "import time\n",
    "\n",
    "start_time = time.time()\n",
    "\n",
    "history = model.fit(x_train, y_train, epochs=3)\n",
    "\n",
    "end_time = time.time()\n",
    "\n",
    "print(\"Total training time:\", end_time - start_time, \"seconds\")\n"
   ]
  },
  {
   "cell_type": "code",
   "execution_count": null,
   "id": "4323d39a",
   "metadata": {
    "execution": {
     "iopub.execute_input": "2023-03-30T08:25:21.274717Z",
     "iopub.status.busy": "2023-03-30T08:25:21.273303Z",
     "iopub.status.idle": "2023-03-30T08:27:32.999071Z",
     "shell.execute_reply": "2023-03-30T08:27:32.997691Z",
     "shell.execute_reply.started": "2023-03-30T08:25:21.274647Z"
    },
    "papermill": {
     "duration": null,
     "end_time": null,
     "exception": null,
     "start_time": null,
     "status": "pending"
    },
    "tags": []
   },
   "outputs": [],
   "source": [
    "start_time = time.time()\n",
    "\n",
    "loss, test_acc = model.evaluate(x_test, y_test)\n",
    "\n",
    "end_time = time.time()\n",
    "\n",
    "print(\"Total testing time:\", end_time - start_time, \"seconds\")\n"
   ]
  },
  {
   "cell_type": "code",
   "execution_count": null,
   "id": "9ec04a45",
   "metadata": {
    "execution": {
     "iopub.execute_input": "2023-03-30T08:32:58.240866Z",
     "iopub.status.busy": "2023-03-30T08:32:58.239936Z",
     "iopub.status.idle": "2023-03-30T08:32:58.498507Z",
     "shell.execute_reply": "2023-03-30T08:32:58.496921Z",
     "shell.execute_reply.started": "2023-03-30T08:32:58.240814Z"
    },
    "papermill": {
     "duration": null,
     "end_time": null,
     "exception": null,
     "start_time": null,
     "status": "pending"
    },
    "tags": []
   },
   "outputs": [],
   "source": [
    "\n",
    "plt.plot(history.history['accuracy'])\n",
    "plt.plot(history.history['loss'])\n",
    "plt.title('Accuracy vs. Loss')\n",
    "plt.ylabel('Percentage')\n",
    "plt.xlabel('Epoch')\n",
    "plt.legend(['Train', 'Validation'], loc='upper left')\n",
    "plt.show()\n"
   ]
  }
 ],
 "metadata": {
  "kernelspec": {
   "display_name": "Python 3",
   "language": "python",
   "name": "python3"
  },
  "language_info": {
   "codemirror_mode": {
    "name": "ipython",
    "version": 3
   },
   "file_extension": ".py",
   "mimetype": "text/x-python",
   "name": "python",
   "nbconvert_exporter": "python",
   "pygments_lexer": "ipython3",
   "version": "3.7.12"
  },
  "papermill": {
   "default_parameters": {},
   "duration": 27.981007,
   "end_time": "2023-03-30T10:01:42.292841",
   "environment_variables": {},
   "exception": true,
   "input_path": "__notebook__.ipynb",
   "output_path": "__notebook__.ipynb",
   "parameters": {},
   "start_time": "2023-03-30T10:01:14.311834",
   "version": "2.4.0"
  }
 },
 "nbformat": 4,
 "nbformat_minor": 5
}
