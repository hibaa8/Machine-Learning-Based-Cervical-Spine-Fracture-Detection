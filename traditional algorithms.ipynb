{
 "cells": [
  {
   "cell_type": "code",
   "execution_count": null,
   "id": "0644ca3f",
   "metadata": {
    "execution": {
     "iopub.execute_input": "2023-03-29T09:32:27.001952Z",
     "iopub.status.busy": "2023-03-29T09:32:27.001486Z",
     "iopub.status.idle": "2023-03-29T09:32:27.010455Z",
     "shell.execute_reply": "2023-03-29T09:32:27.008850Z",
     "shell.execute_reply.started": "2023-03-29T09:32:27.001909Z"
    },
    "papermill": {
     "duration": null,
     "end_time": null,
     "exception": null,
     "start_time": null,
     "status": "pending"
    },
    "tags": []
   },
   "outputs": [],
   "source": [
    "x_test.shape"
   ]
  },
  {
   "cell_type": "code",
   "execution_count": null,
   "id": "a6e975dd",
   "metadata": {
    "execution": {
     "iopub.execute_input": "2023-03-30T06:58:36.608230Z",
     "iopub.status.busy": "2023-03-30T06:58:36.607796Z",
     "iopub.status.idle": "2023-03-30T06:58:36.614629Z",
     "shell.execute_reply": "2023-03-30T06:58:36.613230Z",
     "shell.execute_reply.started": "2023-03-30T06:58:36.608192Z"
    },
    "papermill": {
     "duration": null,
     "end_time": null,
     "exception": null,
     "start_time": null,
     "status": "pending"
    },
    "tags": []
   },
   "outputs": [],
   "source": [
    "x_train = np.reshape(x_train, (x_train.shape[0], -1))\n",
    "x_test = np.reshape(x_test, (x_test.shape[0], -1))"
   ]
  },
  {
   "cell_type": "code",
   "execution_count": null,
   "id": "e1a561c7",
   "metadata": {
    "execution": {
     "iopub.execute_input": "2023-03-29T09:33:44.565998Z",
     "iopub.status.busy": "2023-03-29T09:33:44.565282Z",
     "iopub.status.idle": "2023-03-29T09:33:44.573144Z",
     "shell.execute_reply": "2023-03-29T09:33:44.571471Z",
     "shell.execute_reply.started": "2023-03-29T09:33:44.565953Z"
    },
    "papermill": {
     "duration": null,
     "end_time": null,
     "exception": null,
     "start_time": null,
     "status": "pending"
    },
    "tags": []
   },
   "outputs": [],
   "source": [
    "x_test.shape"
   ]
  },
  {
   "cell_type": "code",
   "execution_count": null,
   "id": "8bb007eb",
   "metadata": {
    "execution": {
     "iopub.execute_input": "2023-03-30T07:00:07.706451Z",
     "iopub.status.busy": "2023-03-30T07:00:07.706084Z",
     "iopub.status.idle": "2023-03-30T07:00:15.938665Z",
     "shell.execute_reply": "2023-03-30T07:00:15.937601Z",
     "shell.execute_reply.started": "2023-03-30T07:00:07.706418Z"
    },
    "papermill": {
     "duration": null,
     "end_time": null,
     "exception": null,
     "start_time": null,
     "status": "pending"
    },
    "tags": []
   },
   "outputs": [],
   "source": [
    "from sklearn.neighbors import KNeighborsClassifier\n",
    "from sklearn.metrics import accuracy_score\n",
    "import time\n",
    "\n",
    "knn = KNeighborsClassifier(n_neighbors=5)\n",
    "start_time = time.time()\n",
    "knn_history = knn.fit(x_train, y_train)\n",
    "y_pred_knn = knn.predict(x_test) \n",
    "acc_knn = accuracy_score(y_test, y_pred_knn)\n",
    "end_time = time.time()\n",
    "\n",
    "print(acc_knn)\n",
    "print(\"Total training and testing time:\", end_time - start_time, \"seconds\")"
   ]
  },
  {
   "cell_type": "code",
   "execution_count": null,
   "id": "8c0eda33",
   "metadata": {
    "execution": {
     "iopub.execute_input": "2023-03-29T09:33:55.521464Z",
     "iopub.status.busy": "2023-03-29T09:33:55.521022Z",
     "iopub.status.idle": "2023-03-29T09:33:56.341556Z",
     "shell.execute_reply": "2023-03-29T09:33:56.337944Z",
     "shell.execute_reply.started": "2023-03-29T09:33:55.521405Z"
    },
    "papermill": {
     "duration": null,
     "end_time": null,
     "exception": null,
     "start_time": null,
     "status": "pending"
    },
    "tags": []
   },
   "outputs": [],
   "source": [
    "\n",
    "import time\n",
    "\n",
    "y_pred_knn = knn.predict(x_test)  \n",
    "print(y_pred_knn)"
   ]
  },
  {
   "cell_type": "code",
   "execution_count": null,
   "id": "a1ba788f",
   "metadata": {
    "execution": {
     "iopub.execute_input": "2023-03-30T07:02:20.002548Z",
     "iopub.status.busy": "2023-03-30T07:02:20.002154Z",
     "iopub.status.idle": "2023-03-30T07:02:20.035051Z",
     "shell.execute_reply": "2023-03-30T07:02:20.031984Z",
     "shell.execute_reply.started": "2023-03-30T07:02:20.002512Z"
    },
    "papermill": {
     "duration": null,
     "end_time": null,
     "exception": null,
     "start_time": null,
     "status": "pending"
    },
    "tags": []
   },
   "outputs": [],
   "source": [
    "plt.plot(3, knn_history.history['accuracy'], 'g', label='accuracy')\n",
    "plt.plot(3, knn_history.history['loss'], 'b', label='loss')\n",
    "plt.title('Accuracy vs. Loss for KNN')\n",
    "plt.xlabel('Epochs')\n",
    "plt.ylabel('Percentage')\n",
    "plt.legend()\n",
    "plt.show()"
   ]
  },
  {
   "cell_type": "code",
   "execution_count": null,
   "id": "ef70ced8",
   "metadata": {
    "execution": {
     "iopub.execute_input": "2023-03-29T09:32:59.433433Z",
     "iopub.status.busy": "2023-03-29T09:32:59.432993Z",
     "iopub.status.idle": "2023-03-29T09:32:59.441762Z",
     "shell.execute_reply": "2023-03-29T09:32:59.440198Z",
     "shell.execute_reply.started": "2023-03-29T09:32:59.433393Z"
    },
    "papermill": {
     "duration": null,
     "end_time": null,
     "exception": null,
     "start_time": null,
     "status": "pending"
    },
    "tags": []
   },
   "outputs": [],
   "source": [
    "x_test.shape\n"
   ]
  },
  {
   "cell_type": "code",
   "execution_count": null,
   "id": "ea62c85e",
   "metadata": {
    "execution": {
     "iopub.execute_input": "2023-03-29T09:34:40.998395Z",
     "iopub.status.busy": "2023-03-29T09:34:40.997944Z",
     "iopub.status.idle": "2023-03-29T09:34:41.006913Z",
     "shell.execute_reply": "2023-03-29T09:34:41.005507Z",
     "shell.execute_reply.started": "2023-03-29T09:34:40.998355Z"
    },
    "papermill": {
     "duration": null,
     "end_time": null,
     "exception": null,
     "start_time": null,
     "status": "pending"
    },
    "tags": []
   },
   "outputs": [],
   "source": [
    "acc = accuracy_score(y_test, y_pred_knn)\n",
    "print(acc)"
   ]
  },
  {
   "cell_type": "code",
   "execution_count": null,
   "id": "20cafe15",
   "metadata": {
    "execution": {
     "iopub.execute_input": "2023-03-30T07:02:27.219257Z",
     "iopub.status.busy": "2023-03-30T07:02:27.217752Z",
     "iopub.status.idle": "2023-03-30T07:04:18.923924Z",
     "shell.execute_reply": "2023-03-30T07:04:18.922926Z",
     "shell.execute_reply.started": "2023-03-30T07:02:27.219191Z"
    },
    "papermill": {
     "duration": null,
     "end_time": null,
     "exception": null,
     "start_time": null,
     "status": "pending"
    },
    "tags": []
   },
   "outputs": [],
   "source": [
    "from sklearn.tree import DecisionTreeClassifier\n",
    "dt = DecisionTreeClassifier(random_state=42)\n",
    "\n",
    "start_time = time.time()\n",
    "dt_history = dt.fit(x_train, y_train)\n",
    "y_pred_dt = dt.predict(x_test) \n",
    "acc_dt = accuracy_score(y_test, y_pred_dt)\n",
    "end_time = time.time()\n",
    "print(acc_dt)\n",
    "print(\"Total training and testing time:\", end_time - start_time, \"seconds\")"
   ]
  },
  {
   "cell_type": "code",
   "execution_count": null,
   "id": "70979b15",
   "metadata": {
    "papermill": {
     "duration": null,
     "end_time": null,
     "exception": null,
     "start_time": null,
     "status": "pending"
    },
    "tags": []
   },
   "outputs": [],
   "source": [
    "plt.plot(epochs, loss_train, 'g', label='Training loss')\n",
    "plt.plot(epochs, loss_val, 'b', label='validation loss')\n",
    "plt.title('Training and Validation loss')\n",
    "plt.xlabel('Epochs')\n",
    "plt.ylabel('Loss')\n",
    "plt.legend()\n",
    "plt.show()"
   ]
  },
  {
   "cell_type": "code",
   "execution_count": null,
   "id": "73c24402",
   "metadata": {
    "execution": {
     "iopub.execute_input": "2023-03-30T07:10:37.453879Z",
     "iopub.status.busy": "2023-03-30T07:10:37.453498Z",
     "iopub.status.idle": "2023-03-30T07:10:37.587629Z",
     "shell.execute_reply": "2023-03-30T07:10:37.585967Z",
     "shell.execute_reply.started": "2023-03-30T07:10:37.453850Z"
    },
    "papermill": {
     "duration": null,
     "end_time": null,
     "exception": null,
     "start_time": null,
     "status": "pending"
    },
    "tags": []
   },
   "outputs": [],
   "source": [
    "from sklearn.ensemble import VotingClassifier\n",
    "voting_classifier_soft = VotingClassifier(\n",
    "    estimators = [('dt',dt),\n",
    "                  ('knn', knn)], voting='soft')\n"
   ]
  },
  {
   "cell_type": "code",
   "execution_count": null,
   "id": "d3c11ec7",
   "metadata": {
    "execution": {
     "iopub.execute_input": "2023-03-30T07:10:40.889263Z",
     "iopub.status.busy": "2023-03-30T07:10:40.888886Z",
     "iopub.status.idle": "2023-03-30T07:12:40.105839Z",
     "shell.execute_reply": "2023-03-30T07:12:40.104404Z",
     "shell.execute_reply.started": "2023-03-30T07:10:40.889231Z"
    },
    "papermill": {
     "duration": null,
     "end_time": null,
     "exception": null,
     "start_time": null,
     "status": "pending"
    },
    "tags": []
   },
   "outputs": [],
   "source": [
    "import time\n",
    "\n",
    "start_time = time.time()\n",
    "\n",
    "voting_classifier_soft.fit(x_train, y_train)\n",
    "y_pred_soft = voting_classifier_soft.predict(x_test)\n",
    "acc_soft = accuracy_score(y_test, y_pred_soft)\n",
    "end_time = time.time()\n",
    "print(acc_soft)"
   ]
  },
  {
   "cell_type": "code",
   "execution_count": null,
   "id": "84c4d906",
   "metadata": {
    "execution": {
     "iopub.execute_input": "2023-03-30T07:13:53.044009Z",
     "iopub.status.busy": "2023-03-30T07:13:53.043573Z",
     "iopub.status.idle": "2023-03-30T07:13:53.052236Z",
     "shell.execute_reply": "2023-03-30T07:13:53.050053Z",
     "shell.execute_reply.started": "2023-03-30T07:13:53.043968Z"
    },
    "papermill": {
     "duration": null,
     "end_time": null,
     "exception": null,
     "start_time": null,
     "status": "pending"
    },
    "tags": []
   },
   "outputs": [],
   "source": [
    "print(end_time-start_time)"
   ]
  }
 ],
 "metadata": {
  "kernelspec": {
   "display_name": "Python 3",
   "language": "python",
   "name": "python3"
  },
  "language_info": {
   "codemirror_mode": {
    "name": "ipython",
    "version": 3
   },
   "file_extension": ".py",
   "mimetype": "text/x-python",
   "name": "python",
   "nbconvert_exporter": "python",
   "pygments_lexer": "ipython3",
   "version": "3.7.12"
  },
  "papermill": {
   "default_parameters": {},
   "duration": 95.070978,
   "end_time": "2023-03-30T10:02:57.700751",
   "environment_variables": {},
   "exception": true,
   "input_path": "__notebook__.ipynb",
   "output_path": "__notebook__.ipynb",
   "parameters": {},
   "start_time": "2023-03-30T10:01:22.629773",
   "version": "2.4.0"
  }
 },
 "nbformat": 4,
 "nbformat_minor": 5
}
